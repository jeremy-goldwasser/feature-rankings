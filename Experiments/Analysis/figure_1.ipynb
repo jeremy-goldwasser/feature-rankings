{
 "cells": [
  {
   "cell_type": "code",
   "execution_count": 1,
   "metadata": {},
   "outputs": [],
   "source": [
    "import numpy as np\n",
    "import matplotlib.pyplot as plt\n",
    "from sklearn.linear_model import LogisticRegression\n",
    "from sklearn.datasets import load_breast_cancer\n",
    "\n",
    "import sys\n",
    "import pathlib\n",
    "from os.path import join\n",
    "path_to_file = str(pathlib.Path().resolve())\n",
    "dir_path = join(path_to_file, \"../../\")\n",
    "sys.path.append(join(dir_path, \"HelperFiles\"))\n",
    "import helper\n",
    "import load_data\n",
    "import train_models\n",
    "import top_k\n",
    "\n",
    "# from sprtshap import *\n",
    "import warnings\n",
    "warnings.filterwarnings('ignore')\n",
    "import shap\n",
    "data_path = join(dir_path, \"Experiments\", \"Data\")"
   ]
  },
  {
   "cell_type": "code",
   "execution_count": 2,
   "metadata": {},
   "outputs": [
    {
     "name": "stdout",
     "output_type": "stream",
     "text": [
      "171 0.631578947368421\n",
      "92% accuracy\n"
     ]
    }
   ],
   "source": [
    "X_train, y_train, X_test, y_test, mapping_dict = load_data.load_data(data_path, \"breast_cancer\")\n",
    "d = X_train.shape[1]\n",
    "print(len(y_test), np.mean(y_test))\n",
    "model = train_models.train_neural_net(X_train, y_train)\n",
    "# model = train_rf(X_train, y_train)\n",
    "\n",
    "y_preds = (model(X_test) > 0.5).astype(\"int\")\n",
    "print(\"{}% accuracy\".format(round(np.mean(y_preds == y_test)*100)))\n",
    "\n",
    "# SPRT converged here\n",
    "x_idx = 6\n",
    "xloc = X_test[x_idx]"
   ]
  },
  {
   "cell_type": "code",
   "execution_count": null,
   "metadata": {},
   "outputs": [],
   "source": []
  },
  {
   "cell_type": "code",
   "execution_count": 5,
   "metadata": {},
   "outputs": [
    {
     "data": {
      "text/plain": [
       "30"
      ]
     },
     "execution_count": 5,
     "metadata": {},
     "output_type": "execute_result"
    }
   ],
   "source": [
    "# method = \"rankshap\"\n",
    "# dataset = \"breast_cancer\"\n",
    "# K = 5\n",
    "# guarantee = \"rank\"\n",
    "# alpha = 0.1\n",
    "# data_dir = join(dir_path, \"Experiments\", \"Results\", \"Top_K\", guarantee, \"alpha_\"+str(alpha)) \n",
    "# fname = method + \"_\" + dataset + \"_K\" + str(K) \n",
    "# path = join(data_dir, fname)\n",
    "\n",
    "# with open(path, \"rb\") as fp:\n",
    "#     results = pickle.load(fp)\n",
    "    \n",
    "# top_K_all = results['top_K']\n",
    "# rejection_idx = results['rejection_idx']\n",
    "# fwers_all = np.array([calc_fwer(top_K, rejection_idx=idx) for top_K, idx in zip(top_K_all, rejection_idx)])\n",
    "# print(fwers_all)\n",
    "# results['x_indices']\n"
   ]
  },
  {
   "cell_type": "code",
   "execution_count": null,
   "metadata": {},
   "outputs": [],
   "source": []
  },
  {
   "cell_type": "code",
   "execution_count": null,
   "metadata": {},
   "outputs": [
    {
     "name": "stdout",
     "output_type": "stream",
     "text": [
      "success  1\n",
      "1\n",
      "success  2\n",
      "2\n",
      "success  3\n",
      "3\n",
      "success  4\n",
      "4\n",
      "5\n",
      "success  5\n",
      "6\n",
      "success  6\n",
      "7\n",
      "success  7\n",
      "8\n",
      "success  8\n",
      "9\n",
      "10\n",
      "11\n",
      "success  9\n",
      "12\n",
      "success  10\n",
      "13\n",
      "14\n",
      "success  11\n",
      "15\n",
      "success  12\n",
      "16\n",
      "success  13\n",
      "17\n",
      "success  14\n",
      "18\n",
      "success  15\n",
      "19\n",
      "success  16\n",
      "20\n",
      "21\n",
      "success  17\n",
      "22\n",
      "23\n",
      "success  18\n",
      "24\n",
      "25\n",
      "26\n",
      "27\n",
      "success  19\n",
      "28\n",
      "29\n",
      "success  20\n",
      "30\n",
      "success  21\n",
      "31\n",
      "success  22\n",
      "32\n"
     ]
    }
   ],
   "source": [
    "import importlib\n",
    "importlib.reload(top_k)\n",
    "importlib.reload(helper)\n",
    "\n",
    "np.random.seed(1)\n",
    "N_runs = 25\n",
    "rankshap_vals_all = []\n",
    "ct = 0\n",
    "while len(rankshap_vals_all) < N_runs:\n",
    "    rankshap_vals, _, N, converged = top_k.rankshap(model, X_train, xloc, K=5, alpha=0.1, abs=False, n_samples_per_perm=10, max_n_perms=10000)\n",
    "    if converged:\n",
    "        rankshap_vals_all.append(rankshap_vals)\n",
    "        # if len(rankshap_vals_all) % 5 == 0:\n",
    "        print(\"success \", len(rankshap_vals_all))\n",
    "    ct += 1\n",
    "    print(ct)"
   ]
  },
  {
   "cell_type": "code",
   "execution_count": null,
   "metadata": {},
   "outputs": [],
   "source": []
  },
  {
   "cell_type": "code",
   "execution_count": 25,
   "metadata": {},
   "outputs": [
    {
     "name": "stdout",
     "output_type": "stream",
     "text": [
      "0.36\n",
      "22\n",
      "13\n",
      "2\n",
      "17\n",
      "0\n",
      "[1.0, 1.0, 1.0, 0.96, 0.64]\n"
     ]
    }
   ],
   "source": [
    "order_rs = [helper.get_ranking(shap_values, abs=False) for shap_values in rankshap_vals_all]\n",
    "\n",
    "K = 5\n",
    "# cols_rs = []\n",
    "freqs_rs = []\n",
    "top_K_rs = np.array(order_rs)[:,:K]\n",
    "print(helper.calc_fwer(top_K_rs))\n",
    "for k in range(K):\n",
    "    most_common = np.argmax(np.bincount(top_K_rs[:,k]))\n",
    "    # cols_rs.append(colnames[most_common])\n",
    "    print(most_common) # Verify they're unique\n",
    "    freqs_rs.append(np.mean(top_K_rs[:,k]==most_common).item())\n",
    "print(freqs_rs)"
   ]
  },
  {
   "cell_type": "markdown",
   "metadata": {},
   "source": [
    "## LIME"
   ]
  },
  {
   "cell_type": "code",
   "execution_count": 19,
   "metadata": {},
   "outputs": [
    {
     "name": "stdout",
     "output_type": "stream",
     "text": [
      "0.6\n"
     ]
    }
   ],
   "source": [
    "x_idx = 1\n",
    "K = 5\n",
    "xloc = X_test[x_idx]\n",
    "top_K_lime = []\n",
    "from slime import lime_tabular\n",
    "model = train_model(X_train, y_train, \"rf\", lime=True)\n",
    "explainer = lime_tabular.LimeTabularExplainer(X_train, \n",
    "                                              discretize_continuous = False, \n",
    "                                              feature_selection = \"lasso_path\", \n",
    "                                              sample_around_instance = True)\n",
    "for _ in range(N_runs):\n",
    "    exp = explainer.explain_instance(xloc, model, num_features = K, num_samples = 1000) # Default\n",
    "    tuples = exp.local_exp[1]\n",
    "    feats = [tuples[i][0] for i in range(5)]\n",
    "    top_K_lime.append(feats)\n",
    "print(helper.calc_fwer(top_K_lime))\n"
   ]
  },
  {
   "cell_type": "markdown",
   "metadata": {},
   "source": [
    "### SLIME"
   ]
  },
  {
   "cell_type": "code",
   "execution_count": 20,
   "metadata": {},
   "outputs": [
    {
     "name": "stdout",
     "output_type": "stream",
     "text": [
      "0.0\n"
     ]
    }
   ],
   "source": [
    "top_K_slime = []\n",
    "while len(top_K_slime) < N_runs:\n",
    "    exp, converged = explainer.slime(xloc, model, num_features = K, \n",
    "                                num_samples = 1000, n_max = 50000, #100000\n",
    "                                alpha = 0.2/K/2, tol=1e-4, return_none=True)\n",
    "    if converged:\n",
    "        tuples = exp.local_exp[1]\n",
    "        feats = [tuples[i][0] for i in range(K)]\n",
    "        top_K_slime.append(feats)\n",
    "print(calc_fwer(top_K_slime))"
   ]
  },
  {
   "cell_type": "code",
   "execution_count": 21,
   "metadata": {},
   "outputs": [
    {
     "name": "stdout",
     "output_type": "stream",
     "text": [
      "22\n",
      "23\n",
      "20\n",
      "7\n",
      "27\n",
      "[np.float64(1.0), np.float64(0.96), np.float64(0.6), np.float64(0.44), np.float64(0.76)]\n",
      "22\n",
      "23\n",
      "20\n",
      "7\n",
      "27\n",
      "[np.float64(1.0), np.float64(1.0), np.float64(1.0), np.float64(1.0), np.float64(1.0)]\n"
     ]
    }
   ],
   "source": [
    "# fname = \"lime_vs_slime\"\n",
    "# with open(join(dir_path, \"Experiments\", \"Results\", \"alpha0.2\", fname), \"rb\") as fp:\n",
    "#         top_Ks = pickle.load(fp)\n",
    "# top_K_lime, top_K_slime = np.array(top_Ks[0]), np.array(top_Ks[1])\n",
    "top_K_lime, top_K_slime = np.array(top_K_lime), np.array(top_K_slime)\n",
    "\n",
    "###### Get frequencies of top-5 lime and S-LIME features\n",
    "cols_lime = []\n",
    "freqs_lime = []\n",
    "K = 5\n",
    "breast_cancer = load_breast_cancer()\n",
    "colnames = breast_cancer.feature_names\n",
    "for k in range(K):\n",
    "    most_common = np.argmax(np.bincount(top_K_lime[:,k]))\n",
    "    cols_lime.append(colnames[most_common])\n",
    "    print(most_common) # Verify they're unique\n",
    "    freqs_lime.append(np.mean(top_K_lime[:,k]==most_common))\n",
    "print(freqs_lime)\n",
    "\n",
    "cols_slime = []\n",
    "freqs_slime = []\n",
    "for k in range(K):\n",
    "    most_common = np.argmax(np.bincount(top_K_slime[:,k]))\n",
    "    cols_slime.append(colnames[most_common])\n",
    "    print(most_common) # Verify they're unique\n",
    "    freqs_slime.append(np.mean(top_K_slime[:,k]==most_common))\n",
    "\n",
    "print(freqs_slime)"
   ]
  },
  {
   "cell_type": "markdown",
   "metadata": {},
   "source": [
    "## Visualize"
   ]
  },
  {
   "cell_type": "code",
   "execution_count": 22,
   "metadata": {},
   "outputs": [
    {
     "data": {
      "image/png": "[encoded data removed]",
      "text/plain": [
       "<Figure size 1000x500 with 1 Axes>"
      ]
     },
     "metadata": {},
     "output_type": "display_data"
    }
   ],
   "source": [
    "plt.figure(figsize=(10,5))\n",
    "width = 0.1\n",
    "\n",
    "# Plotting\n",
    "import matplotlib as mpl\n",
    "mpl.rcParams['hatch.linewidth'] = 0.1  # previous pdf hatch linewidth\n",
    "\n",
    "onetoK = np.arange(K)+1\n",
    "plt.bar(onetoK-.225, freqs_rs , width, label='RankSHAP', hatch=\".\")\n",
    "plt.bar(onetoK-.125, freqs_kshap , width, label='KernelSHAP')\n",
    "plt.bar(onetoK-.025, freqs_ss, width, label='Shapley Sampling')\n",
    "\n",
    "plt.bar(onetoK+.125, freqs_slime , width, label='Adj. S-LIME', hatch=\".\")\n",
    "plt.bar(onetoK+.225, freqs_lime, width, label='LIME')\n",
    "\n",
    "plt.xlabel('\\nFeature Ranking', size=13)\n",
    "plt.ylabel('Selection Frequency', size=13)\n",
    "plt.title('Frequency of Top-K Feature Rankings', size=15)\n",
    "\n",
    "order = [\"1st\", \"2nd\", \"3rd\", \"4th\", \"5th\"]\n",
    "# order2 = [order[i] + '\\n' + cols_slime[i].title() for i in range(K)]\n",
    "plt.xticks(onetoK + width / 2, order)\n",
    "plt.axhline(0.8, color=\"black\")\n",
    "# Finding the best position for legends and putting it\n",
    "plt.legend(loc='lower left', prop={'size': 12}, handleheight=1.3)\n",
    "plt.tight_layout()\n",
    "# plt.savefig(join(dir_path, \"Experiments\", \"Figures\", \"instability.png\"), bbox_inches=\"tight\")\n",
    "plt.show()\n"
   ]
  },
  {
   "cell_type": "code",
   "execution_count": null,
   "metadata": {},
   "outputs": [],
   "source": []
  }
 ],
 "metadata": {
  "kernelspec": {
   "display_name": "rankings",
   "language": "python",
   "name": "python3"
  },
  "language_info": {
   "codemirror_mode": {
    "name": "ipython",
    "version": 3
   },
   "file_extension": ".py",
   "mimetype": "text/x-python",
   "name": "python",
   "nbconvert_exporter": "python",
   "pygments_lexer": "ipython3",
   "version": "3.11.4"
  },
  "orig_nbformat": 4
 },
 "nbformat": 4,
 "nbformat_minor": 2
}
