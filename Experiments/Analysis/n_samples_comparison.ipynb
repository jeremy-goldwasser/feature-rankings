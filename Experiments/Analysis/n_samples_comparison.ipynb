{
 "cells": [
  {
   "cell_type": "code",
   "execution_count": 1,
   "metadata": {},
   "outputs": [],
   "source": [
    "import numpy as np\n",
    "import sys\n",
    "import pickle\n",
    "import pathlib\n",
    "import os\n",
    "from os.path import join\n",
    "path_to_file = str(pathlib.Path().resolve())\n",
    "dir_path = join(path_to_file, \"../../\")\n",
    "from slime import lime_tabular\n",
    "\n",
    "sys.path.append(join(dir_path, \"HelperFiles\"))\n",
    "import helper\n",
    "import helper_shapley_sampling\n",
    "import top_k\n",
    "import train_models\n",
    "import load_data\n",
    "\n",
    "import warnings\n",
    "warnings.filterwarnings('ignore')"
   ]
  },
  {
   "cell_type": "code",
   "execution_count": 2,
   "metadata": {},
   "outputs": [],
   "source": [
    "N_pts = 50\n",
    "K = 2\n",
    "guarantee = \"rank\"\n",
    "alpha = 0.1\n",
    "max_n_rankshap = 10000\n",
    "max_n_kernelshap = 50000\n",
    "datasets = [\"census\", \"bank\", \"brca\", \"credit\", \"breast_cancer\"]\n"
   ]
  },
  {
   "cell_type": "code",
   "execution_count": 7,
   "metadata": {},
   "outputs": [],
   "source": [
    "dataset = datasets[0]\n",
    "X_train, y_train, X_test, y_test, mapping_dict = load_data.load_data(join(dir_path, \"Experiments\", \"Data\"), dataset)\n",
    "N_test = y_test.shape[0]\n",
    "d = len(mapping_dict)"
   ]
  },
  {
   "cell_type": "code",
   "execution_count": 8,
   "metadata": {},
   "outputs": [],
   "source": [
    "model = train_models.train_model(X_train, y_train, \"nn\")"
   ]
  },
  {
   "cell_type": "code",
   "execution_count": null,
   "metadata": {},
   "outputs": [],
   "source": [
    "N_successful_pts = 0\n",
    "x_idx = 0\n",
    "n_init_per_feature = 100\n",
    "n_init_total = 100*d\n",
    "N_samples = []\n",
    "while N_successful_pts < N_pts and x_idx < N_test:\n",
    "    xloc = X_test[x_idx]\n",
    "    rankshap_vals, _, N_rankshap, rankshap_converged = top_k.rankshap(model, X_train, xloc, mapping_dict=mapping_dict,\n",
    "                                            K=K, alpha=alpha, guarantee=guarantee,\n",
    "                                            max_n_perms=max_n_rankshap, \n",
    "                                            n_equal=True, n_samples_per_perm=10, \n",
    "                                            n_init=n_init_per_feature, abs=True)\n",
    "    sprtshap_vals, _, N_sprtshap, sprtshap_converged = top_k.sprtshap(model, X_train, xloc, K=K, mapping_dict=mapping_dict, \n",
    "                                            guarantee=guarantee,\n",
    "                                            n_samples_per_perm=10, n_perms_btwn_tests=1000, \n",
    "                                            n_max=max_n_kernelshap, alpha=alpha, beta=0.2, abs=True,\n",
    "                                            n_init=n_init_total)\n",
    "    if rankshap_converged and sprtshap_converged:\n",
    "        N_samples.append([N_rankshap, N_sprtshap])\n",
    "    x_idx += 1\n"
   ]
  }
 ],
 "metadata": {
  "kernelspec": {
   "display_name": "rankings",
   "language": "python",
   "name": "python3"
  },
  "language_info": {
   "codemirror_mode": {
    "name": "ipython",
    "version": 3
   },
   "file_extension": ".py",
   "mimetype": "text/x-python",
   "name": "python",
   "nbconvert_exporter": "python",
   "pygments_lexer": "ipython3",
   "version": "3.11.4"
  }
 },
 "nbformat": 4,
 "nbformat_minor": 2
}
