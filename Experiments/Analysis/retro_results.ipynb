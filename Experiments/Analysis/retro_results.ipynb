{
 "cells": [
  {
   "cell_type": "code",
   "execution_count": 6,
   "metadata": {},
   "outputs": [],
   "source": [
    "import numpy as np\n",
    "import matplotlib.pyplot as plt\n",
    "import pickle\n",
    "import pathlib\n",
    "import sys\n",
    "from os.path import join\n",
    "path_to_file = str(pathlib.Path().resolve())\n",
    "dir_path = join(path_to_file, \"../../\")\n",
    "sys.path.append(join(dir_path, \"HelperFiles\"))\n",
    "import helper\n",
    "retro_path = join(path_to_file, \"..\", \"Results\", \"Retrospective\")\n",
    "\n",
    "alphas = [0.05, 0.1, 0.2]"
   ]
  },
  {
   "cell_type": "markdown",
   "metadata": {},
   "source": [
    "### Iterate through all datasets with both methods, at multiple alphas\n",
    "\n",
    "Display with same shape as Table 1 in paper"
   ]
  },
  {
   "cell_type": "code",
   "execution_count": 9,
   "metadata": {},
   "outputs": [
    {
     "name": "stdout",
     "output_type": "stream",
     "text": [
      "[[0.02 0.02 0.1  0.04 0.04 0.08]\n",
      " [0.02 0.04 0.12 0.02 0.04 0.08]\n",
      " [0.02 0.08 0.1  0.02 0.02 0.1 ]\n",
      " [0.02 0.08 0.1  0.04 0.06 0.1 ]\n",
      " [0.02 0.08 0.1  0.02 0.02 0.06]]\n",
      "[[0.004 0.008 0.021 0.003 0.005 0.026]\n",
      " [0.005 0.011 0.027 0.002 0.005 0.026]\n",
      " [0.004 0.012 0.026 0.001 0.005 0.017]\n",
      " [0.003 0.007 0.023 0.003 0.005 0.011]\n",
      " [0.001 0.011 0.033 0.001 0.002 0.012]]\n"
     ]
    }
   ],
   "source": [
    "datasets = [\"census\", \"bank\", \"brca\", \"breast_cancer\", \"credit\"]\n",
    "methods = ['ss', 'kernelshap']\n",
    "max_mat = np.empty((len(datasets), len(methods)*len(alphas)))\n",
    "avg_mat = np.empty((len(datasets), len(methods)*len(alphas)))\n",
    "for i, dataset in enumerate(datasets):\n",
    "    for method in methods:\n",
    "        with open(join(retro_path, method+\"_\"+dataset), 'rb') as f:\n",
    "            retro_results = pickle.load(f)\n",
    "        shap_vals = retro_results[\"shap_vals\"]\n",
    "        N_verified_all = retro_results[\"N_verified\"]\n",
    "        N_pts, N_runs, N_alphas = N_verified_all.shape\n",
    "        shap_vars = retro_results[\"shap_vars\"]\n",
    "\n",
    "        all_ranks = helper.shap_vals_to_ranks(shap_vals, abs=True)\n",
    "\n",
    "        avg_shap = np.mean(shap_vals, axis=1)\n",
    "        avg_ranks = np.array([helper.get_ranking(avg_shap[i], abs=True) for i in range(N_pts)])\n",
    "\n",
    "        fwers = helper.calc_all_retro_fwers(N_verified_all, all_ranks, avg_ranks)\n",
    "        max_fwers = np.round(np.nanmax(fwers, axis=1), 3)\n",
    "        avg_fwers = np.round(np.nanmean(fwers, axis=1), 3)\n",
    "        # print(\"Max:\\t\", max_fwers)\n",
    "        col_start_idx = 0 if method==\"ss\" else 3\n",
    "        max_mat[i, col_start_idx:col_start_idx+3] = max_fwers\n",
    "        avg_mat[i, col_start_idx:col_start_idx+3] = avg_fwers\n",
    "print(max_mat)\n",
    "print(avg_mat)"
   ]
  },
  {
   "cell_type": "markdown",
   "metadata": {},
   "source": [
    "### Great: Even in worst case, FWER is essentially always controlled"
   ]
  },
  {
   "cell_type": "code",
   "execution_count": null,
   "metadata": {},
   "outputs": [],
   "source": []
  }
 ],
 "metadata": {
  "kernelspec": {
   "display_name": "rankings",
   "language": "python",
   "name": "python3"
  },
  "language_info": {
   "codemirror_mode": {
    "name": "ipython",
    "version": 3
   },
   "file_extension": ".py",
   "mimetype": "text/x-python",
   "name": "python",
   "nbconvert_exporter": "python",
   "pygments_lexer": "ipython3",
   "version": "3.11.4"
  },
  "orig_nbformat": 4
 },
 "nbformat": 4,
 "nbformat_minor": 2
}
