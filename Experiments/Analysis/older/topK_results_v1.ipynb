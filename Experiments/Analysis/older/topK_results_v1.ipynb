{
 "cells": [
  {
   "cell_type": "code",
   "execution_count": 1,
   "metadata": {},
   "outputs": [],
   "source": [
    "import numpy as np\n",
    "import pickle\n",
    "import pathlib\n",
    "from matplotlib.ticker import ScalarFormatter\n",
    "import matplotlib.pyplot as plt\n",
    "\n",
    "\n",
    "from os.path import join\n",
    "path_to_file = str(pathlib.Path().resolve())\n",
    "dir_path = join(path_to_file, \"../../\")\n",
    "import warnings\n",
    "warnings.filterwarnings('ignore')\n",
    "\n",
    "import sys\n",
    "sys.path.append(join(dir_path, \"HelperFiles\"))\n",
    "from load_data import *\n"
   ]
  },
  {
   "cell_type": "code",
   "execution_count": 2,
   "metadata": {},
   "outputs": [
    {
     "data": {
      "text/plain": [
       "array([0., 0., 0., 0., 0., 0., 0., 0., 0., 0.])"
      ]
     },
     "execution_count": 2,
     "metadata": {},
     "output_type": "execute_result"
    }
   ],
   "source": [
    "method = \"lime\"\n",
    "dataset = \"breast_cancer\"\n",
    "K = 3\n",
    "alpha = 0.1\n",
    "fname = method + \"_\" + dataset + \"_K\" + str(K) + \"_fwers\"\n",
    "with open(join(dir_path, \"Experiments\", \"Results\", \"alpha0.2\", fname), \"rb\") as fp:\n",
    "        fwers_dict = pickle.load(fp)\n",
    "fwers = np.array(list(fwers_dict.values()))\n",
    "np.round(fwers*100)"
   ]
  },
  {
   "cell_type": "markdown",
   "metadata": {},
   "source": [
    "- alpha = 0.1, K=2 & 5\n",
    "    - LIME always 0 FWER except K=5 credit, where it fucks up\n",
    "    - RankSHAP good: not always 0, few 9/10 controlled\n",
    "    - KernelSHAP always 0 FWER on K=2; always fails on K=5\n",
    "- alpha = 0.2, K=3 & 7\n",
    "    - from table: rankshap & lime good, though lime fails twice on K=7\n",
    "    - kernelshap: same as alpha=0.1, except also fails on bank when K=3"
   ]
  },
  {
   "cell_type": "code",
   "execution_count": 8,
   "metadata": {},
   "outputs": [
    {
     "name": "stdout",
     "output_type": "stream",
     "text": [
      "KERNELSHAP\n",
      "Average FWER (%)\n",
      "[[ 0. nan  0.  0.  0.]\n",
      " [nan nan nan nan nan]]\n",
      "Proportion of FWERs below alpha\n",
      "[[ 1. nan  1.  1.  1.]\n",
      " [nan nan nan nan nan]]\n"
     ]
    }
   ],
   "source": [
    "import os\n",
    "# alpha = 0.1\n",
    "# Ks = [2,5]\n",
    "Ks = [3, 7]\n",
    "alpha = 0.2\n",
    "datasets = [\"census\", \"bank\", \"brca\", \"breast_cancer\", \"credit\"]\n",
    "\n",
    "method = \"kernelshap\"\n",
    "avg_mat = np.empty((len(Ks), len(datasets)))\n",
    "control_mat = np.empty((len(Ks), len(datasets)))\n",
    "for i, K in enumerate(Ks):\n",
    "    for j, dataset in enumerate(datasets):\n",
    "        avg_mat[i, j] = np.nan\n",
    "        control_mat[i, j] = np.nan\n",
    "        fname = method + \"_\" + dataset + \"_K\" + str(K) + \"_fwers\"\n",
    "        path = join(dir_path, \"Experiments\", \"Results\", \"alpha\"+str(alpha), fname)\n",
    "        if os.path.exists(path):\n",
    "                with open(path, \"rb\") as fp:\n",
    "                        fwers_dict = pickle.load(fp)\n",
    "                if len(fwers_dict) >= 1:## == 10: \n",
    "                        fwers = np.array(list(fwers_dict.values()))\n",
    "                        avg_fwer = np.mean(fwers)\n",
    "                        avg_mat[i, j] = np.round(avg_fwer*100)\n",
    "                        prop_fwer_control = np.mean(fwers < alpha)\n",
    "                        control_mat[i, j] = prop_fwer_control\n",
    "\n",
    "print(method.upper())\n",
    "print(\"Average FWER (%)\")\n",
    "print(avg_mat)\n",
    "print(\"Proportion of FWERs below alpha\")\n",
    "print(control_mat)"
   ]
  },
  {
   "cell_type": "code",
   "execution_count": 4,
   "metadata": {},
   "outputs": [
    {
     "name": "stdout",
     "output_type": "stream",
     "text": [
      "census\n",
      "32561 12\n",
      "bank\n",
      "45211 16\n",
      "brca\n",
      "572 20\n",
      "breast_cancer\n",
      "569 30\n",
      "credit\n",
      "1000 20\n"
     ]
    }
   ],
   "source": [
    "for dataset in datasets:\n",
    "    X_train, y_train, X_test, y_test, mapping_dict = load_data(join(dir_path, \"Experiments\", \"Data\"), dataset)\n",
    "    N = y_train.shape[0] + y_test.shape[0]\n",
    "    D = X_train.shape[1] if mapping_dict is None else len(mapping_dict)\n",
    "    print(dataset)\n",
    "    print(N, D)\n"
   ]
  },
  {
   "cell_type": "markdown",
   "metadata": {},
   "source": [
    "Sample size analysis"
   ]
  },
  {
   "cell_type": "code",
   "execution_count": null,
   "metadata": {},
   "outputs": [
    {
     "name": "stdout",
     "output_type": "stream",
     "text": [
      "KERNELSHAP\n",
      "Median number of samples\n",
      "[[1500. 2500. 2000. 1000. 1500.]\n",
      " [  nan   nan   nan   nan   nan]]\n",
      "RANKSHAP\n",
      "Median number of samples\n",
      "[[ 2000.   2169.   6773.5  3000.   1470. ]\n",
      " [14766.  32095.5 17301.5 10803.  14111.5]]\n"
     ]
    }
   ],
   "source": [
    "# Ks = [3, 7]\n",
    "# alpha = 0.2\n",
    "Ks = [2,5]\n",
    "alpha = 0.1\n",
    "datasets = [\"credit\",\"bank\", \"brca\", \"breast_cancer\", \"census\"]\n",
    "\n",
    "shap_n_samples = []\n",
    "shap_q1 = []\n",
    "shap_q3 = []\n",
    "methods = [\"kernelshap\", \"rankshap\"]\n",
    "for method in methods:\n",
    "    samples_mat = np.empty((len(Ks), len(datasets)))\n",
    "    samples_q1 = np.empty((len(Ks), len(datasets)))\n",
    "    samples_q3 = np.empty((len(Ks), len(datasets)))\n",
    "    for i, K in enumerate(Ks):\n",
    "        for j, dataset in enumerate(datasets):\n",
    "            samples_mat[i, j] = np.nan\n",
    "            fname = method + \"_\" + dataset + \"_K\" + str(K) + \"_samples\"\n",
    "            path = join(dir_path, \"Experiments\", \"Results\", \"alpha\"+str(alpha), fname)\n",
    "            if os.path.exists(path):\n",
    "                    with open(path, \"rb\") as fp:\n",
    "                            samples = pickle.load(fp)\n",
    "                            # print(len(samples))\n",
    "                            # if len(samples)==10:\n",
    "                            if len(samples)>0:\n",
    "                                # print(np.array(samples).shape)\n",
    "                                # medSamp = np.median(samples, axis=1)\n",
    "                                # print(medSamp.shape)\n",
    "                                samples_mat[i,j] = np.median(samples)\n",
    "                                samples_q1[i,j] = np.quantile(samples, 0.25)\n",
    "                                samples_q3[i,j] = np.quantile(samples, 0.75)\n",
    "    shap_n_samples.append(samples_mat[0])\n",
    "    shap_q1.append(samples_q1[0])\n",
    "    shap_q3.append(samples_q3[0])\n",
    "    print(method.upper())\n",
    "    print(\"Median number of samples\")\n",
    "    print(samples_mat)\n"
   ]
  },
  {
   "cell_type": "code",
   "execution_count": 79,
   "metadata": {},
   "outputs": [
    {
     "data": {
      "image/png": "[encoded data removed]",
      "text/plain": [
       "<Figure size 1000x400 with 1 Axes>"
      ]
     },
     "metadata": {},
     "output_type": "display_data"
    }
   ],
   "source": [
    "bar_width = 0.35\n",
    "dataNames = [\"Adult\", \"Bank\", \"BRCA\", \"WBC\", \"Credit\"]\n",
    "methodNames = [\"SPRT-SHAP\", \"RankSHAP\"]\n",
    "\n",
    "# Index array for each group\n",
    "index = np.arange(5)\n",
    "\n",
    "# Plotting\n",
    "fig, ax = plt.subplots(figsize=(10,4))\n",
    "\n",
    "# Plotting bars for each row\n",
    "for i in range(2):\n",
    "    ax.bar(index + i * bar_width, shap_n_samples[i], bar_width, label=methodNames[i])\n",
    "    ax.errorbar(index + i * bar_width, shap_n_samples[i], yerr=(shap_n_samples[i]-shap_q1[i], shap_q3[i]-shap_n_samples[i]), color=\"black\", ls=\"none\", capsize=5)\n",
    "\n",
    "# Adding labels\n",
    "ax.set_ylabel('Num Samples', fontsize=\"large\")\n",
    "ax.set_title('Samples to Top-2 Convergence', fontsize=\"large\")\n",
    "ax.set_xticks(index + bar_width / 2)\n",
    "ax.set_xticklabels(dataNames, fontsize=\"large\")\n",
    "ax.set_yscale('log')\n",
    "\n",
    "ax.yaxis.set_major_formatter(ScalarFormatter())\n",
    "\n",
    "ax.legend(fontsize=\"large\")\n",
    "plt.savefig(join(dir_path, \"Experiments\", \"Figures\", \"n_samples_vs_kshap.png\"), bbox_inches=\"tight\")\n",
    "plt.show()\n",
    "\n"
   ]
  },
  {
   "cell_type": "code",
   "execution_count": null,
   "metadata": {},
   "outputs": [],
   "source": []
  }
 ],
 "metadata": {
  "kernelspec": {
   "display_name": "rankings",
   "language": "python",
   "name": "python3"
  },
  "language_info": {
   "codemirror_mode": {
    "name": "ipython",
    "version": 3
   },
   "file_extension": ".py",
   "mimetype": "text/x-python",
   "name": "python",
   "nbconvert_exporter": "python",
   "pygments_lexer": "ipython3",
   "version": "3.11.4"
  },
  "orig_nbformat": 4
 },
 "nbformat": 4,
 "nbformat_minor": 2
}
