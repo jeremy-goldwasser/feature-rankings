{
 "cells": [
  {
   "cell_type": "code",
   "execution_count": 1,
   "metadata": {},
   "outputs": [],
   "source": [
    "import numpy as np\n",
    "import pickle\n",
    "import pathlib\n",
    "\n",
    "from os.path import join, exists\n",
    "path_to_file = str(pathlib.Path().resolve())\n",
    "dir_path = join(path_to_file, \"../../\")\n",
    "\n",
    "import sys\n",
    "sys.path.append(join(dir_path, \"HelperFiles\"))\n",
    "\n",
    "from helper import *\n"
   ]
  },
  {
   "cell_type": "markdown",
   "metadata": {},
   "source": [
    "# SHAP Results"
   ]
  },
  {
   "cell_type": "code",
   "execution_count": 27,
   "metadata": {},
   "outputs": [
    {
     "name": "stdout",
     "output_type": "stream",
     "text": [
      "####################\n",
      "Method:  rankshap \tK: 2 \tAlpha: 0.1\n",
      "Max FWER (%)\n",
      "[[8. 6. 6. 4. 0.]\n",
      " [2. 2. 6. 2. 4.]]\n",
      "####################\n",
      "Method:  rankshap \tK: 2 \tAlpha: 0.2\n",
      "Max FWER (%)\n",
      "[[16. 14. 14.  8. 10.]\n",
      " [16.  0. 10.  2. 12.]]\n",
      "####################\n",
      "Method:  rankshap \tK: 5 \tAlpha: 0.1\n",
      "Max FWER (%)\n",
      "[[ 6. 10. 10.  4.  6.]\n",
      " [ 6. 10. 10.  4.  4.]]\n",
      "####################\n",
      "Method:  rankshap \tK: 5 \tAlpha: 0.2\n",
      "Max FWER (%)\n",
      "[[14. 18. 20. 12. 20.]\n",
      " [14. 16. 20. 16.  4.]]\n",
      "####################\n",
      "Method:  sprtshap \tK: 2 \tAlpha: 0.1\n",
      "Max FWER (%)\n",
      "[[ 0.  0. nan  0.  0.]\n",
      " [ 0.  0.  0.  0.  0.]]\n",
      "####################\n",
      "Method:  sprtshap \tK: 2 \tAlpha: 0.2\n",
      "Max FWER (%)\n",
      "[[ 2.  2. nan  0.  4.]\n",
      " [ 0.  2.  0.  0.  0.]]\n",
      "####################\n",
      "Method:  sprtshap \tK: 5 \tAlpha: 0.1\n",
      "Max FWER (%)\n",
      "[[nan nan nan nan  0.]\n",
      " [ 0.  0.  0.  0.  0.]]\n",
      "####################\n",
      "Method:  sprtshap \tK: 5 \tAlpha: 0.2\n",
      "Max FWER (%)\n",
      "[[nan nan nan nan  0.]\n",
      " [ 8.  2.  2.  2.  0.]]\n"
     ]
    }
   ],
   "source": [
    "datasets = [\"census\", \"bank\", \"brca\", \"credit\", \"breast_cancer\"]\n",
    "Ks = [2,5]\n",
    "methods = [\"rankshap\", \"sprtshap\"]\n",
    "guarantees = [\"rank\", \"set\"]\n",
    "for method in methods:\n",
    "    for K in Ks:\n",
    "        for alpha in [0.1, 0.2]:\n",
    "            max_mat = np.empty((len(Ks), len(datasets)))\n",
    "            for i, guarantee in enumerate(guarantees):\n",
    "                data_dir = join(dir_path, \"Experiments\", \"Results\", \"Top_K\", guarantee, \"alpha_\"+str(alpha)) \n",
    "                for j, dataset in enumerate(datasets):\n",
    "                    max_mat[i,j] = np.nan\n",
    "                    fname = method + \"_\" + dataset + \"_K\" + str(K) \n",
    "                    path = join(data_dir, fname)\n",
    "                    if exists(path):\n",
    "                        with open(path, \"rb\") as fp:\n",
    "                            results = pickle.load(fp)\n",
    "                        # fwers = results['fwers']\n",
    "                        # try:\n",
    "                        top_K_all = results['top_K']\n",
    "                        rejection_idx = results['rejection_idx']\n",
    "                        fwers_all = np.array([calc_fwer(top_K, rejection_idx=idx) for top_K, idx in zip(top_K_all, rejection_idx)])\n",
    "                        relevant_idx = [len(idx)>=50*0.9 for idx in rejection_idx]\n",
    "                        fwers = fwers_all[relevant_idx]\n",
    "                        # if len(fwers)>=3 and len(fwers)<=15:\n",
    "                        #     print(fname)\n",
    "                        if len(fwers)>0:\n",
    "                            max_fwer = np.max(fwers)\n",
    "                            max_mat[i, j] = np.round(max_fwer*100).item()\n",
    "            print(\"#\"*20)\n",
    "            print(\"Method: \", method, \"\\tK:\", str(K), \"\\tAlpha:\", alpha)\n",
    "\n",
    "            print(\"Max FWER (%)\")\n",
    "            print(max_mat)\n"
   ]
  },
  {
   "cell_type": "code",
   "execution_count": null,
   "metadata": {},
   "outputs": [],
   "source": []
  },
  {
   "cell_type": "markdown",
   "metadata": {},
   "source": [
    "## LIME Results"
   ]
  },
  {
   "cell_type": "code",
   "execution_count": 35,
   "metadata": {},
   "outputs": [
    {
     "name": "stdout",
     "output_type": "stream",
     "text": [
      "####################\n",
      "Method: LIME \tAlpha:  0.1\n",
      "Max FWER (%)\n",
      "[[ 0.  2.  2.  6. 16.]\n",
      " [nan  0. nan  0.  0.]]\n",
      "####################\n",
      "Method: LIME \tAlpha:  0.2\n",
      "Max FWER (%)\n",
      "[[ 2.  0.  0.  8.  2.]\n",
      " [nan  0. nan  0.  0.]]\n"
     ]
    }
   ],
   "source": [
    "method = \"lime\"\n",
    "guarantee = \"rank\"\n",
    "for alpha in [0.1, 0.2]:\n",
    "    max_mat = np.empty((len(Ks), len(datasets)))\n",
    "    data_dir = join(dir_path, \"Experiments\", \"Results\", \"Top_K\", guarantee, \"alpha_\"+str(alpha))\n",
    "    for i, K in enumerate(Ks):\n",
    "        for j, dataset in enumerate(datasets):\n",
    "            max_mat[i,j] = np.nan\n",
    "            fname = method + \"_\" + dataset + \"_K\" + str(K) \n",
    "            path = join(data_dir, fname)\n",
    "            if exists(path):\n",
    "                with open(path, \"rb\") as fp:\n",
    "                    results = pickle.load(fp)\n",
    "                top_K_all = results['top_K']\n",
    "                # if top_K_all.shape[0]>=30:\n",
    "                rejection_idx = results['rejection_idx']\n",
    "                fwers_all = np.array([calc_fwer(top_K, rejection_idx=idx) for top_K, idx in zip(top_K_all, rejection_idx)])\n",
    "                relevant_idx = [len(idx)>50*0.9 for idx in rejection_idx]\n",
    "                fwers = fwers_all[relevant_idx]\n",
    "                if len(fwers) > 0:\n",
    "                    max_fwer = np.max(fwers)\n",
    "                    max_mat[i, j] = np.round(max_fwer*100, 1)\n",
    "\n",
    "    print(\"#\"*20)\n",
    "    print(\"Method: LIME\", \"\\tAlpha: \", alpha)\n",
    "\n",
    "    print(\"Max FWER (%)\")\n",
    "    print(max_mat)\n",
    "\n"
   ]
  },
  {
   "cell_type": "code",
   "execution_count": 38,
   "metadata": {},
   "outputs": [
    {
     "data": {
      "text/plain": [
       "array([0.  , 0.  , 0.16, 0.  , 0.  , 0.  , 0.  , 0.  , 0.  , 0.  , 0.  ,\n",
       "       0.  , 0.  , 0.  , 0.  , 0.  ])"
      ]
     },
     "execution_count": 38,
     "metadata": {},
     "output_type": "execute_result"
    }
   ],
   "source": [
    "alpha = 0.1\n",
    "dataset = \"breast_cancer\"\n",
    "data_dir = join(dir_path, \"Experiments\", \"Results\", \"Top_K\", guarantee, \"alpha_\"+str(alpha))\n",
    "K = 2\n",
    "fname = method + \"_\" + dataset + \"_K\" + str(K) \n",
    "path = join(data_dir, fname)\n",
    "\n",
    "with open(path, \"rb\") as fp:\n",
    "    results = pickle.load(fp)\n",
    "top_K_all = results['top_K']\n",
    "# if top_K_all.shape[0]>=30:\n",
    "rejection_idx = results['rejection_idx']\n",
    "fwers_all = np.array([calc_fwer(top_K, rejection_idx=idx) for top_K, idx in zip(top_K_all, rejection_idx)])\n"
   ]
  },
  {
   "cell_type": "code",
   "execution_count": 45,
   "metadata": {},
   "outputs": [
    {
     "data": {
      "text/plain": [
       "np.int64(3)"
      ]
     },
     "execution_count": 45,
     "metadata": {},
     "output_type": "execute_result"
    }
   ],
   "source": [
    "results['x_indices'][2]\n",
    "# asdf asdf "
   ]
  },
  {
   "cell_type": "code",
   "execution_count": null,
   "metadata": {},
   "outputs": [],
   "source": []
  }
 ],
 "metadata": {
  "kernelspec": {
   "display_name": "rankings",
   "language": "python",
   "name": "python3"
  },
  "language_info": {
   "codemirror_mode": {
    "name": "ipython",
    "version": 3
   },
   "file_extension": ".py",
   "mimetype": "text/x-python",
   "name": "python",
   "nbconvert_exporter": "python",
   "pygments_lexer": "ipython3",
   "version": "3.11.4"
  }
 },
 "nbformat": 4,
 "nbformat_minor": 2
}
