{
 "cells": [
  {
   "cell_type": "code",
   "execution_count": 2,
   "metadata": {},
   "outputs": [],
   "source": [
    "import numpy as np\n",
    "import pickle\n",
    "import pathlib\n",
    "from matplotlib.ticker import ScalarFormatter\n",
    "import matplotlib.pyplot as plt\n",
    "\n",
    "import os\n",
    "from os.path import join\n",
    "path_to_file = str(pathlib.Path().resolve())\n",
    "dir_path = join(path_to_file, \"../../\")\n",
    "import warnings\n",
    "warnings.filterwarnings('ignore')\n",
    "\n",
    "import sys\n",
    "sys.path.append(join(dir_path, \"HelperFiles\"))\n",
    "from load_data import *\n"
   ]
  },
  {
   "cell_type": "markdown",
   "metadata": {},
   "source": [
    "## SHAP Results"
   ]
  },
  {
   "cell_type": "code",
   "execution_count": 117,
   "metadata": {},
   "outputs": [
    {
     "name": "stdout",
     "output_type": "stream",
     "text": [
      "File not found:  rankshap_breast_cancer_K5\n",
      "####################\n",
      "Method:  rankshap \tGuarantee:  rank \tAlpha:  0.1\n",
      "Max FWER (%)\n",
      "[[ 2.  6.  4.  4.  4.]\n",
      " [ 0.  0.  0.  0. nan]]\n",
      "File not found:  rankshap_breast_cancer_K5\n",
      "####################\n",
      "Method:  rankshap \tGuarantee:  rank \tAlpha:  0.2\n",
      "Max FWER (%)\n",
      "[[16. 14. 14.  2.  2.]\n",
      " [ 0.  0.  0.  0. nan]]\n",
      "####################\n",
      "Method:  rankshap \tGuarantee:  set \tAlpha:  0.1\n",
      "Max FWER (%)\n",
      "[[2. 0. 4. 0. 0.]\n",
      " [0. 0. 0. 0. 0.]]\n",
      "####################\n",
      "Method:  rankshap \tGuarantee:  set \tAlpha:  0.2\n",
      "Max FWER (%)\n",
      "[[16.  0.  6.  0.  0.]\n",
      " [ 4.  2.  2.  0.  0.]]\n",
      "File not found:  sprtshap_bank_K5\n",
      "File not found:  sprtshap_credit_K5\n",
      "####################\n",
      "Method:  sprtshap \tGuarantee:  rank \tAlpha:  0.1\n",
      "Max FWER (%)\n",
      "[[ 0.  0.  0.  0.  0.]\n",
      " [ 0. nan  0. nan  0.]]\n",
      "File not found:  sprtshap_bank_K5\n",
      "File not found:  sprtshap_credit_K5\n",
      "File not found:  sprtshap_breast_cancer_K5\n",
      "####################\n",
      "Method:  sprtshap \tGuarantee:  rank \tAlpha:  0.2\n",
      "Max FWER (%)\n",
      "[[ 0.  0.  2.  2.  0.]\n",
      " [ 0. nan  0. nan nan]]\n",
      "####################\n",
      "Method:  sprtshap \tGuarantee:  set \tAlpha:  0.1\n",
      "Max FWER (%)\n",
      "[[0. 0. 0. 0. 0.]\n",
      " [0. 0. 0. 0. 0.]]\n",
      "####################\n",
      "Method:  sprtshap \tGuarantee:  set \tAlpha:  0.2\n",
      "Max FWER (%)\n",
      "[[0. 0. 0. 0. 0.]\n",
      " [2. 2. 0. 0. 0.]]\n"
     ]
    }
   ],
   "source": [
    "\n",
    "# alpha = 0.2\n",
    "# # alpha = 0.1\n",
    "\n",
    "# # guarantee = \"rank\"\n",
    "# guarantee = \"set\"\n",
    "\n",
    "datasets = [\"census\", \"bank\", \"brca\", \"credit\", \"breast_cancer\"]\n",
    "Ks = [2,5]\n",
    "# method = \"rankshap\"\n",
    "# method = \"sprtshap\"\n",
    "for method in [\"rankshap\", \"sprtshap\"]:\n",
    "    for guarantee in [\"rank\", \"set\"]:\n",
    "        for alpha in [0.1, 0.2]:\n",
    "            avg_mat = np.empty((len(Ks), len(datasets)))\n",
    "            control_mat = np.empty((len(Ks), len(datasets)))\n",
    "            max_mat = np.empty((len(Ks), len(datasets)))\n",
    "            data_dir = join(dir_path, \"Experiments\", \"Results\", \"Top_K\", guarantee, \"alpha_\"+str(alpha))\n",
    "            for i, K in enumerate(Ks):\n",
    "                for j, dataset in enumerate(datasets):\n",
    "                    avg_mat[i, j] = np.nan\n",
    "                    control_mat[i, j] = np.nan\n",
    "                    max_mat[i,j] = np.nan\n",
    "                    fname = method + \"_\" + dataset + \"_K\" + str(K) \n",
    "                    path = join(data_dir, fname)\n",
    "                    if os.path.exists(path):\n",
    "                        with open(path, \"rb\") as fp:\n",
    "                            results = pickle.load(fp)\n",
    "                        fwers = results['fwers']\n",
    "                        # num_non_na = np.count_nonzero(~np.isnan(fwers))\n",
    "                        # if num_non_na < 30:\n",
    "                        #     print(\"Still sampling for \", fname)\n",
    "                        if len(fwers)==30:\n",
    "                            avg_fwer = np.mean(fwers)\n",
    "                            max_fwer = np.max(fwers)\n",
    "                        max_mat[i, j] = np.round(max_fwer*100, 1)\n",
    "                        avg_mat[i, j] = np.round(avg_fwer*100, 1)\n",
    "                        # prop_fwer_control = np.mean(fwers < alpha)\n",
    "                        # control_mat[i, j] = prop_fwer_control\n",
    "                    else:\n",
    "                        print(\"File not found: \", fname)\n",
    "            print(\"#\"*20)\n",
    "            print(\"Method: \", method, \"\\tGuarantee: \", guarantee, \"\\tAlpha: \", alpha)\n",
    "\n",
    "            # print(\"Average FWER (%)\")\n",
    "            # print(avg_mat)\n",
    "            print(\"Max FWER (%)\")\n",
    "            print(max_mat)\n",
    "            # print(\"Proportion of FWERs below alpha\")\n",
    "            # print(control_mat)"
   ]
  },
  {
   "cell_type": "code",
   "execution_count": 122,
   "metadata": {},
   "outputs": [
    {
     "name": "stdout",
     "output_type": "stream",
     "text": [
      "(3,)\n",
      "0.0\n",
      "(3, 10, 12)\n",
      "(3, 10, 5)\n",
      "(3, 10, 12)\n",
      "here\n",
      "(1, 10, 12)\n",
      "(3, 10)\n",
      "dict_keys(['fwers', 'top_K', 'x_indices', 'N_samples', 'shap_vals', 'shap_vars', 'N_samples_per_feature'])\n"
     ]
    }
   ],
   "source": [
    "method = \"rankshap\"\n",
    "dataset = \"census\"\n",
    "K = 5\n",
    "guarantee = \"rank\"\n",
    "alpha = 0.1\n",
    "fname = method + \"_\" + dataset + \"_K\" + str(K) \n",
    "data_dir = join(dir_path, \"Experiments\", \"Results\", \"Top_K\", guarantee, \"alpha_\"+str(alpha))\n",
    "path = join(data_dir, fname)\n",
    "with open(path, \"rb\") as fp:\n",
    "    results = pickle.load(fp)\n",
    "fwers = results['fwers']\n",
    "print(fwers.shape)\n",
    "print(np.max(fwers))\n",
    "print(results['N_samples_per_feature'].shape)\n",
    "print(results['top_K'].shape)\n",
    "print(results['shap_vars'].shape)\n",
    "print(\"here\")\n",
    "print(results['shap_vals'].shape)\n",
    "print(results['N_samples'].shape)\n",
    "print(results.keys())\n"
   ]
  },
  {
   "cell_type": "code",
   "execution_count": null,
   "metadata": {},
   "outputs": [],
   "source": []
  },
  {
   "cell_type": "code",
   "execution_count": null,
   "metadata": {},
   "outputs": [],
   "source": []
  },
  {
   "cell_type": "markdown",
   "metadata": {},
   "source": [
    "## LIME Results"
   ]
  },
  {
   "cell_type": "code",
   "execution_count": 4,
   "metadata": {},
   "outputs": [
    {
     "name": "stdout",
     "output_type": "stream",
     "text": [
      "####################\n",
      "Method: LIME \tAlpha:  0.1\n",
      "Max FWER (%)\n",
      "[[ 0.  0.  0.  2.  0.]\n",
      " [nan  0. nan nan  0.]]\n",
      "####################\n",
      "Method: LIME \tAlpha:  0.2\n",
      "Max FWER (%)\n",
      "[[ 0.  0.  0.  2.  0.]\n",
      " [nan  0. nan nan  0.]]\n"
     ]
    }
   ],
   "source": [
    "method = \"lime\"\n",
    "guarantee = \"rank\"\n",
    "for alpha in [0.1, 0.2]:\n",
    "    avg_mat = np.empty((len(Ks), len(datasets)))\n",
    "    control_mat = np.empty((len(Ks), len(datasets)))\n",
    "    max_mat = np.empty((len(Ks), len(datasets)))\n",
    "    data_dir = join(dir_path, \"Experiments\", \"Results\", \"Top_K\", guarantee, \"alpha_\"+str(alpha))\n",
    "    for i, K in enumerate(Ks):\n",
    "        for j, dataset in enumerate(datasets):\n",
    "            avg_mat[i, j] = np.nan\n",
    "            control_mat[i, j] = np.nan\n",
    "            max_mat[i,j] = np.nan\n",
    "            fname = method + \"_\" + dataset + \"_K\" + str(K) \n",
    "            path = join(data_dir, fname)\n",
    "            if os.path.exists(path):\n",
    "                with open(path, \"rb\") as fp:\n",
    "                    results = pickle.load(fp)\n",
    "                fwers = results['fwers']\n",
    "                avg_fwer = np.mean(fwers)\n",
    "                max_fwer = np.max(fwers)\n",
    "                max_mat[i, j] = np.round(max_fwer*100, 1)\n",
    "                avg_mat[i, j] = np.round(avg_fwer*100, 1)\n",
    "\n",
    "    print(\"#\"*20)\n",
    "    print(\"Method: LIME\", \"\\tAlpha: \", alpha)\n",
    "\n",
    "    print(\"Max FWER (%)\")\n",
    "    print(max_mat)\n",
    "\n",
    "    # print(\"Avg FWER (%)\")\n",
    "    # print(avg_mat)\n"
   ]
  },
  {
   "cell_type": "code",
   "execution_count": 5,
   "metadata": {},
   "outputs": [
    {
     "name": "stdout",
     "output_type": "stream",
     "text": [
      "[0. 0. 0. 0. 0. 0. 0. 0. 0. 0. 0. 0. 0. 0. 0. 0. 0. 0. 0. 0. 0. 0. 0. 0.\n",
      " 0. 0. 0. 0. 0. 0.]\n"
     ]
    }
   ],
   "source": [
    "dataset = \"brca\"\n",
    "K = \"2\"\n",
    "fname = method + \"_\" + dataset + \"_K\" + str(K) \n",
    "path = join(data_dir, fname)\n",
    "if os.path.exists(path):\n",
    "    with open(path, \"rb\") as fp:\n",
    "        results = pickle.load(fp)\n",
    "    fwers = results['fwers']\n",
    "    print(fwers)"
   ]
  },
  {
   "cell_type": "code",
   "execution_count": null,
   "metadata": {},
   "outputs": [],
   "source": []
  },
  {
   "cell_type": "markdown",
   "metadata": {},
   "source": [
    "## Number of samples"
   ]
  },
  {
   "cell_type": "code",
   "execution_count": 110,
   "metadata": {},
   "outputs": [
    {
     "name": "stdout",
     "output_type": "stream",
     "text": [
      "[1200.0, 1600.0, 2000.0, 2000.0, nan]\n",
      "[1200.0, 1600.0, 2000.0, 2000.0, nan]\n",
      "##########\n",
      "[nan, 2000.0, nan, nan, 3000.0]\n",
      "[nan, 1000.0, nan, nan, 1000.0]\n",
      "##########\n"
     ]
    }
   ],
   "source": [
    "alpha = 0.1\n",
    "guarantee = \"rank\"\n",
    "K = 2\n",
    "\n",
    "shap_n_samples, shap_q1, shap_q3 = [], [], []\n",
    "datasets = [\"census\", \"bank\", \"brca\", \"credit\", \"breast_cancer\"]\n",
    "\n",
    "methods = ['rankshap', 'sprtshap']\n",
    "for method in methods:\n",
    "    samples_med, samples_q1, samples_q3 = [], [], []\n",
    "    data_dir = join(dir_path, \"Experiments\", \"Results\", \"Top_K\", guarantee, \"alpha_\"+str(alpha))\n",
    "    for j, dataset in enumerate(datasets):\n",
    "        fname = method + \"_\" + dataset + \"_K\" + str(K) \n",
    "        path = join(data_dir, fname)\n",
    "        if os.path.exists(path):\n",
    "            with open(path, \"rb\") as fp:\n",
    "                results = pickle.load(fp)\n",
    "            samples = results['N_samples']\n",
    "            if samples.shape[0]==30:\n",
    "                samples_med.append(np.median(samples).item())\n",
    "                samples_q1.append(np.quantile(samples, 0.25).item())\n",
    "                samples_q3.append(np.quantile(samples, 0.75).item())\n",
    "            else:\n",
    "                samples_med.append(np.nan)\n",
    "                samples_q1.append(np.nan)\n",
    "                samples_q3.append(np.nan)\n",
    "    print(samples_med)\n",
    "    print(samples_q1)\n",
    "    print(\"#\"*10)\n",
    "    shap_n_samples.append(samples_med)\n",
    "    shap_q1.append(samples_q1)\n",
    "    shap_q3.append(samples_q3)\n",
    "\n",
    "shap_n_samples = np.array(shap_n_samples)\n",
    "samples_q1 = np.array(samples_q1)\n",
    "shap_q3 = np.array(shap_q3)"
   ]
  },
  {
   "cell_type": "code",
   "execution_count": 111,
   "metadata": {},
   "outputs": [],
   "source": [
    "# method = \"rankshap\"\n",
    "# dataset = \"census\"\n",
    "# K = 2\n",
    "# fname = method + \"_\" + dataset + \"_K\" + str(K) \n",
    "# path = join(data_dir, fname)\n",
    "# if os.path.exists(path):\n",
    "#     with open(path, \"rb\") as fp:\n",
    "#         results = pickle.load(fp)\n",
    "#     samples = results['N_samples']\n",
    "#     print(samples.shape)\n",
    "#     if samples.shape[0]==30:\n",
    "#         print(np.median(samples))\n",
    "#         print(np.quantile(samples, 0.25))\n",
    "#         print(np.quantile(samples, 0.75))\n"
   ]
  },
  {
   "cell_type": "code",
   "execution_count": 112,
   "metadata": {},
   "outputs": [
    {
     "name": "stdout",
     "output_type": "stream",
     "text": [
      "[[1200. 1600. 2000. 2000.   nan]\n",
      " [  nan 2000.   nan   nan 3000.]]\n",
      "[[1200. 1600. 2000. 2000.   nan]\n",
      " [  nan 1000.   nan   nan 1000.]]\n",
      "[nan, 2000.0, nan, nan, 3000.0]\n",
      "[  nan 1000.   nan   nan 1000.]\n"
     ]
    }
   ],
   "source": [
    "print(np.array(shap_n_samples))\n",
    "print(np.array(shap_q1))\n",
    "\n",
    "print(samples_med)\n",
    "print(samples_q1)   \n",
    "# i = 0\n",
    "# shap_n_samples[i]-shap_q1[i]\n",
    "# rankshap, K=2, dataset 5 (breast_cancer)"
   ]
  },
  {
   "cell_type": "code",
   "execution_count": null,
   "metadata": {},
   "outputs": [],
   "source": []
  },
  {
   "cell_type": "code",
   "execution_count": 113,
   "metadata": {},
   "outputs": [],
   "source": [
    "\n",
    "# Ks = [2,5]\n",
    "# alpha = 0.1\n",
    "# datasets = [\"credit\",\"bank\", \"brca\", \"breast_cancer\", \"census\"]\n",
    "\n",
    "# shap_n_samples = []\n",
    "# shap_q1 = []\n",
    "# shap_q3 = []\n",
    "# methods = [\"kernelshap\", \"rankshap\"]\n",
    "# for method in methods:\n",
    "# samples_mat = np.empty((len(Ks), len(datasets)))\n",
    "# samples_q1 = np.empty((len(Ks), len(datasets)))\n",
    "# samples_q3 = np.empty((len(Ks), len(datasets)))\n",
    "# for i, K in enumerate(Ks):\n",
    "#     for j, dataset in enumerate(datasets):\n",
    "#         samples_mat[i, j] = np.nan\n",
    "#         fname = method + \"_\" + dataset + \"_K\" + str(K) + \"_samples\"\n",
    "#         path = join(dir_path, \"Experiments\", \"Results\", \"alpha\"+str(alpha), fname)\n",
    "#         if os.path.exists(path):\n",
    "#             with open(path, \"rb\") as fp:\n",
    "#                 samples = pickle.load(fp)\n",
    "#                 # print(len(samples))\n",
    "#                 # if len(samples)==10:\n",
    "#                 if len(samples)>0:\n",
    "#                     # print(np.array(samples).shape)\n",
    "#                     # medSamp = np.median(samples, axis=1)\n",
    "#                     # print(medSamp.shape)\n",
    "#                     samples_mat[i,j] = np.median(samples)\n",
    "#                     samples_q1[i,j] = np.quantile(samples, 0.25)\n",
    "#                 samples_q3[i,j] = np.quantile(samples, 0.75)\n",
    "#         shap_n_samples.append(samples_mat[0])\n",
    "#         shap_q1.append(samples_q1[0])\n",
    "#         shap_q3.append(samples_q3[0])\n",
    "# print(method.upper())\n",
    "# print(\"Median number of samples\")\n",
    "# print(samples_mat)\n"
   ]
  },
  {
   "cell_type": "code",
   "execution_count": 115,
   "metadata": {},
   "outputs": [
    {
     "data": {
      "text/plain": [
       "['census', 'bank', 'brca', 'credit', 'breast_cancer']"
      ]
     },
     "execution_count": 115,
     "metadata": {},
     "output_type": "execute_result"
    }
   ],
   "source": [
    "datasets"
   ]
  },
  {
   "cell_type": "code",
   "execution_count": null,
   "metadata": {},
   "outputs": [],
   "source": []
  },
  {
   "cell_type": "code",
   "execution_count": 116,
   "metadata": {},
   "outputs": [
    {
     "data": {
      "image/png": "[encoded data removed]",
      "text/plain": [
       "<Figure size 1000x400 with 1 Axes>"
      ]
     },
     "metadata": {},
     "output_type": "display_data"
    }
   ],
   "source": [
    "bar_width = 0.35\n",
    "dataNames = [\"Adult\", \"Bank\", \"BRCA\", \"Credit\", \"WBC\"]\n",
    "methodNames = [\"RankSHAP\", \"SPRT-SHAP\"]\n",
    "\n",
    "# Index array for each group\n",
    "index = np.arange(5)\n",
    "\n",
    "# Plotting\n",
    "fig, ax = plt.subplots(figsize=(10,4))\n",
    "\n",
    "# Plotting bars for each row\n",
    "for i in range(2):\n",
    "    ax.bar(index + i * bar_width, shap_n_samples[i], bar_width, label=methodNames[i])\n",
    "    ax.errorbar(index + i * bar_width, shap_n_samples[i], yerr=(shap_n_samples[i]-shap_q1[i], shap_q3[i]-shap_n_samples[i]), color=\"black\", ls=\"none\", capsize=5)\n",
    "\n",
    "# Adding labels\n",
    "ax.set_ylabel('Num Samples', fontsize=\"large\")\n",
    "ax.set_title('Samples to Top-2 Convergence', fontsize=\"large\")\n",
    "ax.set_xticks(index + bar_width / 2)\n",
    "ax.set_xticklabels(dataNames, fontsize=\"large\")\n",
    "ax.set_yscale('log')\n",
    "\n",
    "ax.yaxis.set_major_formatter(ScalarFormatter())\n",
    "\n",
    "ax.legend(fontsize=\"large\")\n",
    "# plt.savefig(join(dir_path, \"Experiments\", \"Figures\", \"n_samples_vs_kshap.png\"), bbox_inches=\"tight\")\n",
    "plt.show()\n",
    "\n"
   ]
  },
  {
   "cell_type": "code",
   "execution_count": null,
   "metadata": {},
   "outputs": [],
   "source": []
  }
 ],
 "metadata": {
  "kernelspec": {
   "display_name": "rankings",
   "language": "python",
   "name": "python3"
  },
  "language_info": {
   "codemirror_mode": {
    "name": "ipython",
    "version": 3
   },
   "file_extension": ".py",
   "mimetype": "text/x-python",
   "name": "python",
   "nbconvert_exporter": "python",
   "pygments_lexer": "ipython3",
   "version": "3.11.4"
  }
 },
 "nbformat": 4,
 "nbformat_minor": 2
}
