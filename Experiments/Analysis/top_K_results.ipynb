{
 "cells": [
  {
   "cell_type": "code",
   "execution_count": 69,
   "metadata": {},
   "outputs": [],
   "source": [
    "import numpy as np\n",
    "import pickle\n",
    "import pathlib\n",
    "from matplotlib.ticker import ScalarFormatter\n",
    "import matplotlib.pyplot as plt\n",
    "\n",
    "import os\n",
    "from os.path import join\n",
    "path_to_file = str(pathlib.Path().resolve())\n",
    "dir_path = join(path_to_file, \"../../\")\n",
    "import warnings\n",
    "warnings.filterwarnings('ignore')\n",
    "\n",
    "import sys\n",
    "sys.path.append(join(dir_path, \"HelperFiles\"))\n",
    "from load_data import *\n"
   ]
  },
  {
   "cell_type": "markdown",
   "metadata": {},
   "source": [
    "## SHAP Results"
   ]
  },
  {
   "cell_type": "code",
   "execution_count": null,
   "metadata": {},
   "outputs": [
    {
     "name": "stdout",
     "output_type": "stream",
     "text": [
      "File not found:  rankshap_breast_cancer_K5\n",
      "####################\n",
      "Method:  rankshap \tGuarantee:  rank \tAlpha:  0.1\n",
      "Max FWER (%)\n",
      "[[ 6.  6.  2.  4.  0.]\n",
      " [ 0.  0.  0.  0. nan]]\n",
      "File not found:  rankshap_breast_cancer_K5\n",
      "####################\n",
      "Method:  rankshap \tGuarantee:  rank \tAlpha:  0.2\n",
      "Max FWER (%)\n",
      "[[18. 18.  0.  2.  2.]\n",
      " [ 0.  0.  0.  0. nan]]\n",
      "####################\n",
      "Method:  rankshap \tGuarantee:  set \tAlpha:  0.1\n",
      "Max FWER (%)\n",
      "[[2. 0. 6. 0. 0.]\n",
      " [0. 0. 0. 2. 0.]]\n",
      "####################\n",
      "Method:  rankshap \tGuarantee:  set \tAlpha:  0.2\n",
      "Max FWER (%)\n",
      "[[16.  0.  6.  0.  6.]\n",
      " [ 4.  2. 14.  4.  0.]]\n",
      "File not found:  sprtshap_bank_K5\n",
      "File not found:  sprtshap_credit_K5\n",
      "####################\n",
      "Method:  sprtshap \tGuarantee:  rank \tAlpha:  0.1\n",
      "Max FWER (%)\n",
      "[[ 0.  0.  0.  0.  0.]\n",
      " [ 0. nan  0. nan  0.]]\n",
      "File not found:  sprtshap_bank_K5\n",
      "File not found:  sprtshap_credit_K5\n",
      "####################\n",
      "Method:  sprtshap \tGuarantee:  rank \tAlpha:  0.2\n",
      "Max FWER (%)\n",
      "[[ 0.  0.  0.  0.  0.]\n",
      " [ 0. nan  0. nan  0.]]\n",
      "####################\n",
      "Method:  sprtshap \tGuarantee:  set \tAlpha:  0.1\n",
      "Max FWER (%)\n",
      "[[0. 2. 0. 0. 0.]\n",
      " [0. 0. 0. 0. 0.]]\n",
      "####################\n",
      "Method:  sprtshap \tGuarantee:  set \tAlpha:  0.2\n",
      "Max FWER (%)\n",
      "[[ 2. 12.  0.  0.  0.]\n",
      " [ 4.  0.  2.  0.  0.]]\n"
     ]
    }
   ],
   "source": [
    "\n",
    "# alpha = 0.2\n",
    "# # alpha = 0.1\n",
    "\n",
    "# # guarantee = \"rank\"\n",
    "# guarantee = \"set\"\n",
    "\n",
    "datasets = [\"census\", \"bank\", \"brca\", \"credit\", \"breast_cancer\"]\n",
    "Ks = [2,5]\n",
    "# method = \"rankshap\"\n",
    "# method = \"sprtshap\"\n",
    "for method in [\"rankshap\", \"sprtshap\"]:\n",
    "    for guarantee in [\"rank\", \"set\"]:\n",
    "        for alpha in [0.1, 0.2]:\n",
    "            max_mat = np.empty((len(Ks), len(datasets)))\n",
    "            data_dir = join(dir_path, \"Experiments\", \"Results\", \"Top_K\", guarantee, \"alpha_\"+str(alpha))\n",
    "            for i, K in enumerate(Ks):\n",
    "                for j, dataset in enumerate(datasets):\n",
    "                    max_mat[i,j] = np.nan\n",
    "                    fname = method + \"_\" + dataset + \"_K\" + str(K) \n",
    "                    path = join(data_dir, fname)\n",
    "                    if os.path.exists(path):\n",
    "                        with open(path, \"rb\") as fp:\n",
    "                            results = pickle.load(fp)\n",
    "                        fwers = results['fwers']\n",
    "                        if len(fwers)==30:\n",
    "                            # Paper table used FWERs from < 30 runs\n",
    "                            avg_fwer = np.mean(fwers)\n",
    "                            max_fwer = np.max(fwers)\n",
    "                            max_mat[i, j] = np.round(max_fwer*100, 1)\n",
    "                        else:\n",
    "                            print(f\"Only ran on {len(fwers)} inputs: \", fname, guarantee, alpha)\n",
    "                    else:\n",
    "                        print(\"File not found: \", fname)\n",
    "            print(\"#\"*20)\n",
    "            print(\"Method: \", method, \"\\tGuarantee: \", guarantee, \"\\tAlpha: \", alpha)\n",
    "\n",
    "            # print(\"Average FWER (%)\")\n",
    "            # print(avg_mat)\n",
    "            print(\"Max FWER (%)\")\n",
    "            print(max_mat)\n",
    "            # print(\"Proportion of FWERs below alpha\")\n",
    "            # print(control_mat)"
   ]
  },
  {
   "cell_type": "code",
   "execution_count": 63,
   "metadata": {},
   "outputs": [
    {
     "data": {
      "text/plain": [
       "13"
      ]
     },
     "execution_count": 63,
     "metadata": {},
     "output_type": "execute_result"
    }
   ],
   "source": [
    "method = \"rankshap\"\n",
    "dataset = \"breast_cancer\"\n",
    "K = 2\n",
    "guarantee = \"rank\"\n",
    "alpha = 0.2\n",
    "fname = method + \"_\" + dataset + \"_K\" + str(K) \n",
    "data_dir = join(dir_path, \"Experiments\", \"Results\", \"Top_K\", guarantee, \"alpha_\"+str(alpha))\n",
    "path = join(data_dir, fname)\n",
    "with open(path, \"rb\") as fp:\n",
    "    results = pickle.load(fp)\n",
    "fwers = results['fwers']\n",
    "len(fwers)\n"
   ]
  },
  {
   "cell_type": "code",
   "execution_count": null,
   "metadata": {},
   "outputs": [],
   "source": []
  },
  {
   "cell_type": "code",
   "execution_count": null,
   "metadata": {},
   "outputs": [],
   "source": []
  },
  {
   "cell_type": "markdown",
   "metadata": {},
   "source": [
    "## LIME Results"
   ]
  },
  {
   "cell_type": "code",
   "execution_count": 4,
   "metadata": {},
   "outputs": [
    {
     "name": "stdout",
     "output_type": "stream",
     "text": [
      "####################\n",
      "Method: LIME \tAlpha:  0.1\n",
      "Max FWER (%)\n",
      "[[0. 0. 2. 4. 0.]\n",
      " [0. 0. 0. 0. 0.]]\n",
      "####################\n",
      "Method: LIME \tAlpha:  0.2\n",
      "Max FWER (%)\n",
      "[[0. 0. 2. 4. 0.]\n",
      " [0. 0. 0. 0. 0.]]\n"
     ]
    }
   ],
   "source": [
    "method = \"lime\"\n",
    "guarantee = \"rank\"\n",
    "for alpha in [0.1, 0.2]:\n",
    "    avg_mat = np.empty((len(Ks), len(datasets)))\n",
    "    control_mat = np.empty((len(Ks), len(datasets)))\n",
    "    max_mat = np.empty((len(Ks), len(datasets)))\n",
    "    data_dir = join(dir_path, \"Experiments\", \"Results\", \"Top_K\", guarantee, \"alpha_\"+str(alpha))\n",
    "    for i, K in enumerate(Ks):\n",
    "        for j, dataset in enumerate(datasets):\n",
    "            avg_mat[i, j] = np.nan\n",
    "            control_mat[i, j] = np.nan\n",
    "            max_mat[i,j] = np.nan\n",
    "            fname = method + \"_\" + dataset + \"_K\" + str(K) \n",
    "            path = join(data_dir, fname)\n",
    "            if os.path.exists(path):\n",
    "                with open(path, \"rb\") as fp:\n",
    "                    results = pickle.load(fp)\n",
    "                fwers = results['fwers']\n",
    "                avg_fwer = np.mean(fwers)\n",
    "                max_fwer = np.max(fwers)\n",
    "                max_mat[i, j] = np.round(max_fwer*100, 1)\n",
    "                avg_mat[i, j] = np.round(avg_fwer*100, 1)\n",
    "\n",
    "    print(\"#\"*20)\n",
    "    print(\"Method: LIME\", \"\\tAlpha: \", alpha)\n",
    "\n",
    "    print(\"Max FWER (%)\")\n",
    "    print(max_mat)\n",
    "\n",
    "    # print(\"Avg FWER (%)\")\n",
    "    # print(avg_mat)\n"
   ]
  },
  {
   "cell_type": "code",
   "execution_count": 5,
   "metadata": {},
   "outputs": [
    {
     "name": "stdout",
     "output_type": "stream",
     "text": [
      "[0.   0.   0.   0.   0.   0.   0.   0.   0.   0.   0.   0.   0.   0.\n",
      " 0.   0.   0.   0.   0.   0.   0.   0.   0.   0.02 0.   0.   0.   0.\n",
      " 0.   0.  ]\n"
     ]
    }
   ],
   "source": [
    "dataset = \"brca\"\n",
    "K = \"2\"\n",
    "fname = method + \"_\" + dataset + \"_K\" + str(K) \n",
    "path = join(data_dir, fname)\n",
    "if os.path.exists(path):\n",
    "    with open(path, \"rb\") as fp:\n",
    "        results = pickle.load(fp)\n",
    "    fwers = results['fwers']\n",
    "    print(fwers)"
   ]
  },
  {
   "cell_type": "code",
   "execution_count": null,
   "metadata": {},
   "outputs": [],
   "source": []
  },
  {
   "cell_type": "markdown",
   "metadata": {},
   "source": [
    "## Number of samples"
   ]
  },
  {
   "cell_type": "code",
   "execution_count": 54,
   "metadata": {},
   "outputs": [
    {
     "name": "stdout",
     "output_type": "stream",
     "text": [
      "rankshap_breast_cancer_K2\n",
      "[1400.0, 1600.0, 2200.0, 2000.0, nan]\n",
      "[1200.0, 1600.0, 2000.0, 2000.0, nan]\n",
      "##########\n",
      "sprtshap_brca_K2\n",
      "[2000.0, 2000.0, nan, 2000.0, 3000.0]\n",
      "[1000.0, 1000.0, nan, 1000.0, 1000.0]\n",
      "##########\n"
     ]
    }
   ],
   "source": [
    "alpha = 0.1\n",
    "guarantee = \"rank\"\n",
    "K = 2\n",
    "\n",
    "shap_n_samples, shap_q1, shap_q3 = [], [], []\n",
    "datasets = [\"census\", \"bank\", \"brca\", \"credit\", \"breast_cancer\"]\n",
    "\n",
    "methods = ['rankshap', 'sprtshap']\n",
    "for method in methods:\n",
    "    samples_med, samples_q1, samples_q3 = [], [], []\n",
    "    data_dir = join(dir_path, \"Experiments\", \"Results\", \"Top_K\", guarantee, \"alpha_\"+str(alpha))\n",
    "    for j, dataset in enumerate(datasets):\n",
    "        fname = method + \"_\" + dataset + \"_K\" + str(K) \n",
    "        path = join(data_dir, fname)\n",
    "        if os.path.exists(path):\n",
    "            with open(path, \"rb\") as fp:\n",
    "                results = pickle.load(fp)\n",
    "            samples = results['N_samples']\n",
    "            if samples.shape[0]==30:\n",
    "                samples_med.append(np.median(samples).item())\n",
    "                samples_q1.append(np.quantile(samples, 0.25).item())\n",
    "                samples_q3.append(np.quantile(samples, 0.75).item())\n",
    "            else:\n",
    "                print(fname)\n",
    "                samples_med.append(np.nan)\n",
    "                samples_q1.append(np.nan)\n",
    "                samples_q3.append(np.nan)\n",
    "    print(samples_med)\n",
    "    print(samples_q1)\n",
    "    print(\"#\"*10)\n",
    "    shap_n_samples.append(samples_med)\n",
    "    shap_q1.append(samples_q1)\n",
    "    shap_q3.append(samples_q3)\n",
    "\n",
    "shap_n_samples = np.array(shap_n_samples)\n",
    "samples_q1 = np.array(samples_q1)\n",
    "shap_q3 = np.array(shap_q3)"
   ]
  },
  {
   "cell_type": "code",
   "execution_count": 55,
   "metadata": {},
   "outputs": [],
   "source": [
    "# method = \"sprtshap\"\n",
    "# dataset = \"brca\"\n",
    "# K = 2\n",
    "# fname = method + \"_\" + dataset + \"_K\" + str(K) \n",
    "# path = join(data_dir, fname)\n",
    "# if os.path.exists(path):\n",
    "#     with open(path, \"rb\") as fp:\n",
    "#         results = pickle.load(fp)\n",
    "#     samples = results['N_samples']\n",
    "#     print(samples.shape)\n",
    "#     # if samples.shape[0]==30:\n",
    "#     print(np.median(samples))\n",
    "#     print(np.quantile(samples, 0.25))\n",
    "#     print(np.quantile(samples, 0.75))\n"
   ]
  },
  {
   "cell_type": "code",
   "execution_count": 56,
   "metadata": {},
   "outputs": [
    {
     "data": {
      "image/png": "[encoded data removed]",
      "text/plain": [
       "<Figure size 1000x400 with 1 Axes>"
      ]
     },
     "metadata": {},
     "output_type": "display_data"
    }
   ],
   "source": [
    "bar_width = 0.35\n",
    "dataNames = [\"Adult\", \"Bank\", \"BRCA\", \"Credit\", \"WBC\"]\n",
    "methodNames = [\"RankSHAP\", \"SPRT-SHAP\"]\n",
    "\n",
    "# Index array for each group\n",
    "index = np.arange(5)\n",
    "\n",
    "# Plotting\n",
    "fig, ax = plt.subplots(figsize=(10,4))\n",
    "\n",
    "# Plotting bars for each row\n",
    "for i in range(2):\n",
    "    ax.bar(index + i * bar_width, shap_n_samples[i], bar_width, label=methodNames[i])\n",
    "    ax.errorbar(index + i * bar_width, shap_n_samples[i], yerr=(shap_n_samples[i]-shap_q1[i], shap_q3[i]-shap_n_samples[i]), color=\"black\", ls=\"none\", capsize=5)\n",
    "\n",
    "# Adding labels\n",
    "ax.set_ylabel('Num Samples', fontsize=\"large\")\n",
    "ax.set_title('Samples to Top-2 Convergence', fontsize=\"large\")\n",
    "ax.set_xticks(index + bar_width / 2)\n",
    "ax.set_xticklabels(dataNames, fontsize=\"large\")\n",
    "ax.set_yscale('log')\n",
    "\n",
    "ax.yaxis.set_major_formatter(ScalarFormatter())\n",
    "\n",
    "ax.legend(fontsize=\"large\")\n",
    "# plt.savefig(join(dir_path, \"Experiments\", \"Figures\", \"n_samples_vs_kshap.png\"), bbox_inches=\"tight\")\n",
    "plt.show()\n",
    "\n"
   ]
  },
  {
   "cell_type": "code",
   "execution_count": 52,
   "metadata": {},
   "outputs": [],
   "source": [
    "good_idx = np.where(~np.isnan(shap_n_samples).any(axis=0))[0]\n",
    "dataNames_clean = np.array(dataNames)[good_idx]\n",
    "shap_n_samples_clean = np.array(shap_n_samples)[:, good_idx]\n",
    "shap_q1_clean = np.array(shap_q1)[:, good_idx]\n",
    "shap_q3_clean = np.array(shap_q3)[:, good_idx]"
   ]
  },
  {
   "cell_type": "code",
   "execution_count": 53,
   "metadata": {},
   "outputs": [
    {
     "data": {
      "image/png": "[encoded data removed]",
      "text/plain": [
       "<Figure size 1000x400 with 1 Axes>"
      ]
     },
     "metadata": {},
     "output_type": "display_data"
    }
   ],
   "source": [
    "bar_width = 0.35\n",
    "methodNames = [\"RankSHAP\", \"SPRT-SHAP\"]\n",
    "\n",
    "# Index array for each group\n",
    "index = np.arange(len(dataNames_clean))\n",
    "\n",
    "# Plotting\n",
    "fig, ax = plt.subplots(figsize=(10,4))\n",
    "\n",
    "# Plotting bars for each row\n",
    "for i in range(2):\n",
    "    ax.bar(index + i * bar_width, shap_n_samples_clean[i], bar_width, label=methodNames[i])\n",
    "    ax.errorbar(index + i * bar_width, shap_n_samples_clean[i], yerr=(shap_n_samples_clean[i]-shap_q1_clean[i], shap_q3_clean[i]-shap_n_samples_clean[i]), color=\"black\", ls=\"none\", capsize=5)\n",
    "\n",
    "# Adding labels\n",
    "ax.set_ylabel('Num Samples', fontsize=\"large\")\n",
    "ax.set_title('Samples to Top-2 Convergence', fontsize=\"large\")\n",
    "ax.set_xticks(index + bar_width / 2)\n",
    "ax.set_xticklabels(dataNames_clean, fontsize=\"large\")\n",
    "ax.set_yscale('log')\n",
    "\n",
    "ax.yaxis.set_major_formatter(ScalarFormatter())\n",
    "\n",
    "ax.legend(fontsize=\"large\")\n",
    "# plt.savefig(join(dir_path, \"Experiments\", \"Figures\", \"n_samples_vs_kshap.png\"), bbox_inches=\"tight\")\n",
    "plt.show()\n",
    "\n"
   ]
  },
  {
   "cell_type": "code",
   "execution_count": null,
   "metadata": {},
   "outputs": [],
   "source": []
  }
 ],
 "metadata": {
  "kernelspec": {
   "display_name": "rankings",
   "language": "python",
   "name": "python3"
  },
  "language_info": {
   "codemirror_mode": {
    "name": "ipython",
    "version": 3
   },
   "file_extension": ".py",
   "mimetype": "text/x-python",
   "name": "python",
   "nbconvert_exporter": "python",
   "pygments_lexer": "ipython3",
   "version": "3.11.4"
  }
 },
 "nbformat": 4,
 "nbformat_minor": 2
}
