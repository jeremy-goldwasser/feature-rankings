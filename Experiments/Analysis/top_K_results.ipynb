{
 "cells": [
  {
   "cell_type": "code",
   "execution_count": 37,
   "metadata": {},
   "outputs": [],
   "source": [
    "import numpy as np\n",
    "import pickle\n",
    "import pathlib\n",
    "from matplotlib.ticker import ScalarFormatter\n",
    "import matplotlib.pyplot as plt\n",
    "\n",
    "import os\n",
    "from os.path import join\n",
    "path_to_file = str(pathlib.Path().resolve())\n",
    "dir_path = join(path_to_file, \"../../\")\n",
    "import warnings\n",
    "warnings.filterwarnings('ignore')\n",
    "\n",
    "import sys\n",
    "sys.path.append(join(dir_path, \"HelperFiles\"))\n",
    "# from load_data import *\n",
    "from helper import *"
   ]
  },
  {
   "cell_type": "markdown",
   "metadata": {},
   "source": [
    "# SHAP Results\n",
    "## Failure cases for maximum are at indices that converge infrequently"
   ]
  },
  {
   "cell_type": "code",
   "execution_count": 38,
   "metadata": {},
   "outputs": [],
   "source": [
    "np.set_printoptions(suppress=True, precision=3)"
   ]
  },
  {
   "cell_type": "code",
   "execution_count": 39,
   "metadata": {},
   "outputs": [
    {
     "name": "stdout",
     "output_type": "stream",
     "text": [
      "Only ran on 8 inputs:  rankshap_breast_cancer_K2 rank 0.1\n",
      "####################\n",
      "Method:  rankshap \tK: 2 \tAlpha: 0.1\n",
      "Max FWER (%)\n",
      "[[ 8.  6.  6.  4. nan]\n",
      " [ 2.  2.  6.  2.  4.]]\n",
      "####################\n",
      "Method:  rankshap \tK: 2 \tAlpha: 0.2\n",
      "Max FWER (%)\n",
      "[[16. 14. 14.  8.  6.]\n",
      " [16.  0. 10.  2. 12.]]\n",
      "File not found:  rankshap_breast_cancer_K5 rank 0.1\n",
      "####################\n",
      "Method:  rankshap \tK: 5 \tAlpha: 0.1\n",
      "Max FWER (%)\n",
      "[[ 6. 10. 10.  4. nan]\n",
      " [ 6. 10. 10.  4.  4.]]\n",
      "File not found:  rankshap_breast_cancer_K5 rank 0.2\n",
      "####################\n",
      "Method:  rankshap \tK: 5 \tAlpha: 0.2\n",
      "Max FWER (%)\n",
      "[[14. 24. 20. 12. nan]\n",
      " [14. 16. 20. 16.  4.]]\n",
      "Only ran on 0 inputs:  sprtshap_brca_K2 rank 0.1\n",
      "Only ran on 1 inputs:  sprtshap_brca_K2 set 0.1\n",
      "####################\n",
      "Method:  sprtshap \tK: 2 \tAlpha: 0.1\n",
      "Max FWER (%)\n",
      "[[ 0.  0. nan  0.  0.]\n",
      " [ 0.  0. nan  0.  0.]]\n",
      "Only ran on 0 inputs:  sprtshap_brca_K2 rank 0.2\n",
      "Only ran on 1 inputs:  sprtshap_brca_K2 set 0.2\n",
      "####################\n",
      "Method:  sprtshap \tK: 2 \tAlpha: 0.2\n",
      "Max FWER (%)\n",
      "[[ 2.  2. nan  0.  4.]\n",
      " [ 0.  2. nan  0.  0.]]\n",
      "OUTDATED:  sprtshap_census_K5 rank 0.1\n",
      "File not found:  sprtshap_bank_K5 rank 0.1\n",
      "OUTDATED:  sprtshap_brca_K5 rank 0.1\n",
      "File not found:  sprtshap_credit_K5 rank 0.1\n",
      "Only ran on 1 inputs:  sprtshap_breast_cancer_K5 rank 0.1\n",
      "Only ran on 1 inputs:  sprtshap_credit_K5 set 0.1\n",
      "####################\n",
      "Method:  sprtshap \tK: 5 \tAlpha: 0.1\n",
      "Max FWER (%)\n",
      "[[nan nan nan nan nan]\n",
      " [ 0.  0.  0. nan  0.]]\n",
      "Only ran on 0 inputs:  sprtshap_census_K5 rank 0.2\n",
      "File not found:  sprtshap_bank_K5 rank 0.2\n",
      "OUTDATED:  sprtshap_brca_K5 rank 0.2\n",
      "File not found:  sprtshap_credit_K5 rank 0.2\n",
      "Only ran on 1 inputs:  sprtshap_breast_cancer_K5 rank 0.2\n",
      "####################\n",
      "Method:  sprtshap \tK: 5 \tAlpha: 0.2\n",
      "Max FWER (%)\n",
      "[[nan nan nan nan nan]\n",
      " [ 8.  2.  2.  2.  0.]]\n"
     ]
    }
   ],
   "source": [
    "datasets = [\"census\", \"bank\", \"brca\", \"credit\", \"breast_cancer\"]\n",
    "Ks = [2,5]\n",
    "methods = [\"rankshap\", \"sprtshap\"]\n",
    "guarantees = [\"rank\", \"set\"]\n",
    "for method in methods:\n",
    "    for K in Ks:\n",
    "        for alpha in [0.1, 0.2]:\n",
    "            max_mat = np.empty((len(Ks), len(datasets)))\n",
    "            for i, guarantee in enumerate(guarantees):\n",
    "                data_dir = join(dir_path, \"Experiments\", \"Results\", \"Top_K\", guarantee, \"alpha_\"+str(alpha)) \n",
    "                for j, dataset in enumerate(datasets):\n",
    "                    max_mat[i,j] = np.nan\n",
    "                    fname = method + \"_\" + dataset + \"_K\" + str(K) \n",
    "                    path = join(data_dir, fname)\n",
    "                    if os.path.exists(path):\n",
    "                        with open(path, \"rb\") as fp:\n",
    "                            results = pickle.load(fp)\n",
    "                        # fwers = results['fwers']\n",
    "                        try:\n",
    "                            top_K_all = results['top_K']\n",
    "                            rejection_idx = results['rejection_idx']\n",
    "                            fwers_all = np.array([calc_fwer(top_K, rejection_idx=idx) for top_K, idx in zip(top_K_all, rejection_idx)])\n",
    "                            relevant_idx = [len(idx)>=50*0.9 for idx in rejection_idx]\n",
    "                            fwers = fwers_all[relevant_idx]\n",
    "                            # if len(fwers)==30:\n",
    "                            if len(fwers)>=10:\n",
    "                                max_fwer = np.max(fwers)\n",
    "                                max_mat[i, j] = np.round(max_fwer*100).item()\n",
    "                            else:\n",
    "                                print(f\"Only ran on {len(fwers)} inputs: \", fname, guarantee, alpha)\n",
    "                        except:\n",
    "                            print(f\"OUTDATED: \", fname, guarantee, alpha)\n",
    "                    else:\n",
    "                        print(\"File not found: \", fname, guarantee, alpha)\n",
    "            print(\"#\"*20)\n",
    "            print(\"Method: \", method, \"\\tK:\", str(K), \"\\tAlpha:\", alpha)\n",
    "\n",
    "            # print(\"Average FWER (%)\")\n",
    "            # print(avg_mat)\n",
    "            print(\"Max FWER (%)\")\n",
    "            print(max_mat)\n",
    "            # print(\"Proportion of FWERs below alpha\")\n",
    "            # print(control_mat)"
   ]
  },
  {
   "cell_type": "code",
   "execution_count": 42,
   "metadata": {},
   "outputs": [
    {
     "data": {
      "text/plain": [
       "array([0.  , 0.  , 0.  , 0.02, 0.  , 0.  , 0.  , 0.  ])"
      ]
     },
     "execution_count": 42,
     "metadata": {},
     "output_type": "execute_result"
    }
   ],
   "source": [
    "method = \"rankshap\"\n",
    "dataset = \"breast_cancer\"\n",
    "K = 2\n",
    "guarantee = \"rank\"\n",
    "alpha = 0.1\n",
    "data_dir = join(dir_path, \"Experiments\", \"Results\", \"Top_K\", guarantee, \"alpha_\"+str(alpha)) \n",
    "fname = method + \"_\" + dataset + \"_K\" + str(K) \n",
    "path = join(data_dir, fname)\n",
    "\n",
    "with open(path, \"rb\") as fp:\n",
    "    results = pickle.load(fp)\n",
    "    \n",
    "top_K_all = results['top_K']\n",
    "rejection_idx = results['rejection_idx']\n",
    "fwers_all = np.array([calc_fwer(top_K, rejection_idx=idx) for top_K, idx in zip(top_K_all, rejection_idx)])\n",
    "relevant_idx = [len(idx)>=50*0.9 for idx in rejection_idx]\n",
    "fwers = fwers_all[relevant_idx]\n",
    "(fwers)"
   ]
  },
  {
   "cell_type": "code",
   "execution_count": null,
   "metadata": {},
   "outputs": [],
   "source": []
  },
  {
   "cell_type": "code",
   "execution_count": null,
   "metadata": {},
   "outputs": [],
   "source": []
  },
  {
   "cell_type": "code",
   "execution_count": null,
   "metadata": {},
   "outputs": [],
   "source": []
  },
  {
   "cell_type": "markdown",
   "metadata": {},
   "source": [
    "## LIME Results"
   ]
  },
  {
   "cell_type": "code",
   "execution_count": 36,
   "metadata": {},
   "outputs": [
    {
     "name": "stdout",
     "output_type": "stream",
     "text": [
      "####################\n",
      "Method: LIME \tAlpha:  0.1\n",
      "Max FWER (%)\n",
      "[[ 0.  2.  2.  6. nan]\n",
      " [nan  0. nan nan nan]]\n",
      "####################\n",
      "Method: LIME \tAlpha:  0.2\n",
      "Max FWER (%)\n",
      "[[ 0.  2.  2.  8. nan]\n",
      " [nan  0. nan nan nan]]\n"
     ]
    }
   ],
   "source": [
    "method = \"lime\"\n",
    "guarantee = \"rank\"\n",
    "for alpha in [0.1, 0.2]:\n",
    "    avg_mat = np.empty((len(Ks), len(datasets)))\n",
    "    control_mat = np.empty((len(Ks), len(datasets)))\n",
    "    max_mat = np.empty((len(Ks), len(datasets)))\n",
    "    data_dir = join(dir_path, \"Experiments\", \"Results\", \"Top_K\", guarantee, \"alpha_\"+str(alpha))\n",
    "    for i, K in enumerate(Ks):\n",
    "        for j, dataset in enumerate(datasets):\n",
    "            avg_mat[i, j] = np.nan\n",
    "            control_mat[i, j] = np.nan\n",
    "            max_mat[i,j] = np.nan\n",
    "            fname = method + \"_\" + dataset + \"_K\" + str(K) \n",
    "            path = join(data_dir, fname)\n",
    "            if os.path.exists(path):\n",
    "                with open(path, \"rb\") as fp:\n",
    "                    results = pickle.load(fp)\n",
    "                # fwers = results['fwers']\n",
    "                top_K_all = results['top_K']\n",
    "                if top_K_all.shape[0]==30:\n",
    "                    rejection_idx = results['rejection_idx']\n",
    "                    # fwers = [calc_fwer(top_K, rejection_idx=rejection_idx[i]) for i, top_K in enumerate(top_K_all)]\n",
    "                    fwers_all = np.array([calc_fwer(top_K, rejection_idx=idx) for top_K, idx in zip(top_K_all, rejection_idx)])\n",
    "                    relevant_idx = [len(idx)>50*0.95 for idx in rejection_idx]\n",
    "                    fwers = fwers_all[relevant_idx]\n",
    "\n",
    "                    avg_fwer = np.mean(fwers)\n",
    "                    max_fwer = np.max(fwers)\n",
    "                    max_mat[i, j] = np.round(max_fwer*100, 1)\n",
    "                    avg_mat[i, j] = np.round(avg_fwer*100, 1)\n",
    "\n",
    "    print(\"#\"*20)\n",
    "    print(\"Method: LIME\", \"\\tAlpha: \", alpha)\n",
    "\n",
    "    print(\"Max FWER (%)\")\n",
    "    print(max_mat)\n",
    "\n",
    "    # print(\"Avg FWER (%)\")\n",
    "    # print(avg_mat)\n"
   ]
  },
  {
   "cell_type": "code",
   "execution_count": null,
   "metadata": {},
   "outputs": [],
   "source": []
  },
  {
   "cell_type": "code",
   "execution_count": 33,
   "metadata": {},
   "outputs": [
    {
     "data": {
      "text/plain": [
       "'/Users/jeremygoldwasser/Desktop/RankSHAP/Experiments/Analysis/../../Experiments/Results/Top_K/rank/alpha_0.1/lime_brca_K5'"
      ]
     },
     "execution_count": 33,
     "metadata": {},
     "output_type": "execute_result"
    }
   ],
   "source": [
    "alpha = 0.1\n",
    "guarantee = \"rank\"\n",
    "data_dir = join(dir_path, \"Experiments\", \"Results\", \"Top_K\", guarantee, \"alpha_\"+str(alpha))\n",
    "method = \"lime\"\n",
    "dataset = \"brca\"\n",
    "K = 5\n",
    "fname = method + \"_\" + dataset + \"_K\" + str(K) \n",
    "path = join(data_dir, fname)\n",
    "if os.path.exists(path):\n",
    "    with open(path, \"rb\") as fp:\n",
    "        results = pickle.load(fp)\n",
    "    # fwers = results['fwers']\n",
    "    top_K_all = results['top_K']\n",
    "    rejection_idx = results['rejection_idx']\n",
    "    # fwers = [calc_fwer(top_K) for top_K in top_K_all]\n",
    "    fwers_all = np.array([calc_fwer(top_K, rejection_idx=idx) for top_K, idx in zip(top_K_all, rejection_idx)])\n",
    "    relevant_idx = [len(idx)>50*0.8 for idx in rejection_idx]\n",
    "    fwers = fwers_all[relevant_idx]\n",
    "\n",
    "    print(fwers)\n",
    "# idx_of_failure = np.argmax(fwers)\n",
    "# x_idx_failure = results['x_indices'][idx_of_failure]\n",
    "# print(x_idx_failure)\n",
    "path"
   ]
  },
  {
   "cell_type": "code",
   "execution_count": 95,
   "metadata": {},
   "outputs": [
    {
     "data": {
      "text/plain": [
       "True"
      ]
     },
     "execution_count": 95,
     "metadata": {},
     "output_type": "execute_result"
    }
   ],
   "source": [
    "alphas = [0.1, 0.2]\n",
    "arrs = []\n",
    "method = \"lime\"\n",
    "dataset = \"credit\"\n",
    "fname = method + \"_\" + dataset + \"_K\" + str(K) \n",
    "for alpha in alphas:\n",
    "    data_dir = join(dir_path, \"Experiments\", \"Results\", \"Top_K\", guarantee, \"alpha_\"+str(alpha))\n",
    "    path = join(data_dir, fname)\n",
    "    with open(path, \"rb\") as fp:\n",
    "        results = pickle.load(fp)\n",
    "    # fwers = results['fwers']\n",
    "    top_K_all = results['top_K']\n",
    "    arrs.append(top_K_all)\n",
    "np.array_equal(arrs[0], arrs[1])"
   ]
  },
  {
   "cell_type": "code",
   "execution_count": null,
   "metadata": {},
   "outputs": [],
   "source": []
  },
  {
   "cell_type": "code",
   "execution_count": null,
   "metadata": {},
   "outputs": [],
   "source": []
  }
 ],
 "metadata": {
  "kernelspec": {
   "display_name": "rankings",
   "language": "python",
   "name": "python3"
  },
  "language_info": {
   "codemirror_mode": {
    "name": "ipython",
    "version": 3
   },
   "file_extension": ".py",
   "mimetype": "text/x-python",
   "name": "python",
   "nbconvert_exporter": "python",
   "pygments_lexer": "ipython3",
   "version": "3.11.4"
  }
 },
 "nbformat": 4,
 "nbformat_minor": 2
}
