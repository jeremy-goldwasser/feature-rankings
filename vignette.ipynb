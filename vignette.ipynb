{
 "cells": [
  {
   "cell_type": "code",
   "execution_count": 1,
   "metadata": {},
   "outputs": [],
   "source": [
    "import numpy as np\n",
    "import sys\n",
    "import pathlib\n",
    "from os.path import join\n",
    "path_to_file = str(pathlib.Path().resolve())\n",
    "dir_path = join(path_to_file)\n",
    "\n",
    "sys.path.append(join(dir_path, \"HelperFiles\"))\n",
    "\n",
    "# import importlib\n",
    "import retrospective\n",
    "import helper\n",
    "import top_k\n",
    "import train_models\n",
    "import load_data\n",
    "from os.path import join\n",
    "data_path = join(dir_path, \"Experiments\", \"Data\")\n",
    "\n",
    "import warnings\n",
    "warnings.filterwarnings('ignore')"
   ]
  },
  {
   "cell_type": "markdown",
   "metadata": {},
   "source": [
    "## Load dataset and train model\n",
    "\n",
    "Git repo has built-in \"bank\", \"brca\", \"census\" (AKA adult), and \"credit\" datasets.\n",
    "Can fit logistic regression, random forest, or neural net."
   ]
  },
  {
   "cell_type": "code",
   "execution_count": null,
   "metadata": {},
   "outputs": [
    {
     "name": "stdout",
     "output_type": "stream",
     "text": [
      "NN 82% accuracy\n",
      "12\n"
     ]
    }
   ],
   "source": [
    "dataset = \"census\"\n",
    "X_train, y_train, X_test, y_test, mapping_dict = load_data.load_data(data_path, dataset)\n",
    "model = train_models.train_model(X_train, y_train, \"nn\", lime=False)\n",
    "\n",
    "Y_preds = (model(X_test) > 0.5).astype(\"int\")\n",
    "print(\"NN {}% accuracy\".format(round(np.mean(Y_preds == y_test)*100)))\n",
    "d = len(mapping_dict) if mapping_dict is not None else X_train.shape[1]\n",
    "print(d)"
   ]
  },
  {
   "cell_type": "markdown",
   "metadata": {},
   "source": [
    "# Retrospective Analysis\n",
    "## Shapley Sampling "
   ]
  },
  {
   "cell_type": "code",
   "execution_count": 101,
   "metadata": {},
   "outputs": [],
   "source": [
    "np.random.seed(1)\n",
    "x_idx = 1\n",
    "xloc = X_test[x_idx]\n",
    "ss_vals, ss_vars = retrospective.shapley_sampling(model, X_train, xloc, n_perms=5000//d, n_samples_per_perm=10, \n",
    "                                                  mapping_dict=mapping_dict, abs=True)"
   ]
  },
  {
   "cell_type": "markdown",
   "metadata": {},
   "source": [
    "### Number of verified ranks"
   ]
  },
  {
   "cell_type": "code",
   "execution_count": 102,
   "metadata": {},
   "outputs": [
    {
     "name": "stdout",
     "output_type": "stream",
     "text": [
      "Alphas:  [0.2, 0.1, 0.05, 0.01]\n",
      "Number of verified ranks with Shapley Sampling: [5, 5, 5, 5]\n"
     ]
    }
   ],
   "source": [
    "alphas = [0.2, 0.1, 0.05, 0.01]\n",
    "print(\"Alphas: \", alphas)\n",
    "n_verif = [helper.find_num_verified(ss_vals, ss_vars, alpha=alpha, abs=True) for alpha in alphas]\n",
    "print(\"Number of verified ranks with Shapley Sampling:\", n_verif)"
   ]
  },
  {
   "cell_type": "markdown",
   "metadata": {},
   "source": [
    "### Top K set"
   ]
  },
  {
   "cell_type": "code",
   "execution_count": 103,
   "metadata": {},
   "outputs": [
    {
     "name": "stdout",
     "output_type": "stream",
     "text": [
      "Top-5 Set Stability at alpha=0.05: reject (p=0.0008)\n",
      "Top-6 Set Stability at alpha=0.05: fail to reject (p=0.6974)\n",
      "Ranks that failed to reject:  [6 7]\n",
      "Estimated number of samples to reject pair:  [10571. 10571.]\n"
     ]
    }
   ],
   "source": [
    "for K in [5,6]:\n",
    "    alpha = 0.05\n",
    "    result = helper.test_top_k_set(ss_vals, ss_vars, K=K, alpha=alpha, abs=True,\n",
    "                                compute_sample_size=True, value_vars=ss_vars*(5000//d), \n",
    "                                n_equal=True, return_p_val=True, return_close_ranks=True)\n",
    "    test_result, pair_idx, n_to_reject_pair, p_val, rank_idx = result\n",
    "    print(f\"Top-{K} Set Stability at alpha={alpha}: {test_result} (p={round(p_val,4)})\")\n",
    "    if test_result==\"fail to reject\":\n",
    "        print(\"Ranks that failed to reject: \", rank_idx)\n",
    "        print(\"Estimated number of samples to reject pair: \", n_to_reject_pair)\n"
   ]
  },
  {
   "cell_type": "markdown",
   "metadata": {},
   "source": [
    "## KernelSHAP\n",
    "### Number of verified ranks"
   ]
  },
  {
   "cell_type": "code",
   "execution_count": 104,
   "metadata": {},
   "outputs": [
    {
     "name": "stdout",
     "output_type": "stream",
     "text": [
      "Number of verified ranks with Shapley Sampling at alpha=[0.2, 0.1, 0.05, 0.01]: [3, 3, 3, 3]\n"
     ]
    }
   ],
   "source": [
    "np.random.seed(42)\n",
    "x_idx = 3\n",
    "xloc = X_test[x_idx]\n",
    "kshap_vals, kshap_covs = retrospective.kernelshap(model, X_train, xloc, n_perms=5000, n_samples_per_perm=10, \n",
    "                                                  mapping_dict=mapping_dict, abs=True)\n",
    "kshap_vars = np.diag(kshap_covs)\n",
    "n_verif_kshap = [helper.find_num_verified(kshap_vals, kshap_vars, alpha=alpha, abs=True) for alpha in [0.2, 0.1, 0.05, 0.01]]\n",
    "\n",
    "print(f\"Number of verified ranks with Shapley Sampling at alpha={alphas}: {n_verif_kshap}\")\n",
    "\n"
   ]
  },
  {
   "cell_type": "code",
   "execution_count": 105,
   "metadata": {},
   "outputs": [
    {
     "name": "stdout",
     "output_type": "stream",
     "text": [
      "Top-3 Set Stability at alpha=0.05: reject (p=0.0)\n",
      "Top-4 Set Stability at alpha=0.05: fail to reject (p=0.3213)\n",
      "Ranks that failed to reject:  [4 5]\n"
     ]
    }
   ],
   "source": [
    "for K in [3,4]:\n",
    "    alpha = 0.05\n",
    "\n",
    "    test_result, p_val, rank_idx = helper.test_top_k_set(kshap_vals, kshap_vars, K=K, alpha=alpha, abs=True,\n",
    "                                return_p_val=True, return_close_ranks=True)\n",
    "    print(f\"Top-{K} Set Stability at alpha={alpha}: {test_result} (p={round(p_val,4)})\")\n",
    "    if test_result==\"fail to reject\":\n",
    "        print(\"Ranks that failed to reject: \", rank_idx)\n"
   ]
  },
  {
   "cell_type": "markdown",
   "metadata": {},
   "source": [
    "# Top-K methods\n",
    "## RankSHAP"
   ]
  },
  {
   "cell_type": "code",
   "execution_count": 106,
   "metadata": {},
   "outputs": [
    {
     "name": "stdout",
     "output_type": "stream",
     "text": [
      "Converged: True\n",
      "Top-K Feature Ranking: [3 0 7 2 5]\n",
      "Total number of perms:  14186\n",
      "Number of perms per feature (sorted): [3808 1599 1599  795  795  100  100  100  100  100  100  100]\n"
     ]
    }
   ],
   "source": [
    "np.random.seed(123)\n",
    "K = 5\n",
    "xloc = X_test[6]\n",
    "rankshap_vals, diffs, N, converged = top_k.rankshap(model, X_train, xloc, K=K, alpha=0.1, \n",
    "                                        mapping_dict=mapping_dict, max_n_perms=10000, n_equal=True,\n",
    "                                        abs=True, n_init=100)\n",
    "\n",
    "print(\"Converged: {}\".format(converged))\n",
    "ranking = helper.get_ranking(rankshap_vals, abs=True)\n",
    "print(\"Top-K Feature Ranking: {}\".format(ranking[:K]))\n",
    "n_perms_per_feature = [len(diffs[j]) for j in range(d)]\n",
    "print(\"Total number of perms: \", N)\n",
    "print(\"Number of perms per feature (sorted): {}\".format(np.sort(n_perms_per_feature)[::-1]))\n"
   ]
  },
  {
   "cell_type": "markdown",
   "metadata": {},
   "source": [
    "## SPRT-SHAP"
   ]
  },
  {
   "cell_type": "code",
   "execution_count": 107,
   "metadata": {},
   "outputs": [
    {
     "name": "stdout",
     "output_type": "stream",
     "text": [
      "Converged: True\n",
      "Top-K Feature Ranking: [3 2]\n"
     ]
    }
   ],
   "source": [
    "np.random.seed(42)\n",
    "K = 2\n",
    "xloc = X_test[1]\n",
    "kshap_vals, kshap_covs, N_total, converged = top_k.sprtshap(model, X_train, xloc, K, \n",
    "                                                      mapping_dict=mapping_dict, guarantee=\"rank\",\n",
    "                                                      n_samples_per_perm=10, n_perms_btwn_tests=1000, n_max=50000, \n",
    "                                                      alpha=0.1, beta=0.2, abs=True)\n",
    "print(\"Converged: {}\".format(converged))\n",
    "ranking = helper.get_ranking(kshap_vals, abs=True)\n",
    "print(\"Top-K Feature Ranking: {}\".format(ranking[:K]))\n"
   ]
  },
  {
   "cell_type": "code",
   "execution_count": null,
   "metadata": {},
   "outputs": [],
   "source": []
  }
 ],
 "metadata": {
  "kernelspec": {
   "display_name": "rankings",
   "language": "python",
   "name": "python3"
  },
  "language_info": {
   "codemirror_mode": {
    "name": "ipython",
    "version": 3
   },
   "file_extension": ".py",
   "mimetype": "text/x-python",
   "name": "python",
   "nbconvert_exporter": "python",
   "pygments_lexer": "ipython3",
   "version": "3.11.4"
  },
  "orig_nbformat": 4
 },
 "nbformat": 4,
 "nbformat_minor": 2
}
