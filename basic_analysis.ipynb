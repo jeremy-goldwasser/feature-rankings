{
 "cells": [
  {
   "cell_type": "code",
   "execution_count": 1,
   "metadata": {},
   "outputs": [],
   "source": [
    "import numpy as np\n",
    "import sys\n",
    "import pathlib\n",
    "from os.path import join\n",
    "path_to_file = str(pathlib.Path().resolve())\n",
    "dir_path = join(path_to_file)\n",
    "\n",
    "sys.path.append(join(dir_path, \"HelperFiles\"))\n",
    "import helper\n",
    "import retrospective\n",
    "import top_k \n",
    "import train_models\n",
    "import load_data \n",
    "\n",
    "from os.path import join\n",
    "data_path = join(dir_path, \"Experiments\", \"Data\")\n",
    "\n",
    "import warnings\n",
    "warnings.filterwarnings('ignore')\n",
    "\n",
    "from scipy.stats import binom\n",
    "import importlib"
   ]
  },
  {
   "cell_type": "code",
   "execution_count": 2,
   "metadata": {},
   "outputs": [],
   "source": [
    "# dataset = \"census\" #breast_cancer\n",
    "# X_train, y_train, X_test, y_test, mapping_dict = load_data.load_data(data_path, dataset)\n",
    "# model = train_models.train_model(X_train, y_train, \"nn\", lime=False)\n",
    "\n",
    "# print(\"Class imbalance: {}%\".format(round(100*(max(np.mean(y_test), 1-np.mean(y_test))))))\n",
    "# Y_preds = (model(X_test) > 0.5).astype(\"int\")\n",
    "# print(\"NN {}% accuracy\".format(round(np.mean(Y_preds == y_test)*100)))\n",
    "# d = len(mapping_dict) if mapping_dict is not None else X_train.shape[1]\n",
    "# print(d)"
   ]
  },
  {
   "cell_type": "markdown",
   "metadata": {},
   "source": [
    "# Ongoing runs\n",
    "## Retrospective rank verification\n",
    "### Shapley Sampling and KernelSHAP, various alphas. Both always control FWER!"
   ]
  },
  {
   "cell_type": "code",
   "execution_count": 127,
   "metadata": {},
   "outputs": [],
   "source": [
    "import pickle\n",
    "results_path = join(dir_path, \"Experiments\", \"Results\")\n",
    "retro_path = join(results_path, \"Retrospective\")\n",
    "# fname = \"ss_census_shap_vals\"\n",
    "# fname2 = \"ss_census_N_verified\"\n",
    "# fname = \"kernelshap_census_shap_vals\"\n",
    "# fname2 = \"kernelshap_census_N_verified\"\n",
    "method = \"ss\"\n",
    "dataset = \"census\"\n",
    "with open(join(retro_path, method+\"_\"+dataset), 'rb') as f:\n",
    "    retro_results = pickle.load(f)\n",
    "shap_vals = retro_results[\"shap_vals\"]\n",
    "N_verified_all = retro_results[\"N_verified\"]\n",
    "shap_vars = retro_results[\"shap_vars\"]"
   ]
  },
  {
   "cell_type": "code",
   "execution_count": 128,
   "metadata": {},
   "outputs": [
    {
     "name": "stdout",
     "output_type": "stream",
     "text": [
      "Alphas:\t [0.05, 0.1, 0.2]\n",
      "(30, 50, 3)\n",
      "Max:\t [0.02  0.02  0.111]\n",
      "Mean:\t [0.004 0.008 0.026]\n"
     ]
    }
   ],
   "source": [
    "# Number of stable ranks from retrospective procedure. \n",
    "importlib.reload(helper)\n",
    "alphas = [0.05, 0.1, 0.2]\n",
    "print(\"Alphas:\\t\", alphas)\n",
    "all_ranks = helper.shap_vals_to_ranks(shap_vals, abs=True)\n",
    "\n",
    "N_pts, N_runs, N_alphas = N_verified_all.shape\n",
    "print(N_verified_all.shape)\n",
    "avg_shap = np.mean(shap_vals, axis=1)\n",
    "avg_ranks = np.array([helper.get_ranking(avg_shap[i], abs=True) for i in range(N_pts)])\n",
    "# Ignore input samples on which at most 25% of iterations verify any ranks.\n",
    "fwers = helper.calc_all_retro_fwers(N_verified_all, all_ranks, avg_ranks, thresh = 0.25)\n",
    "print(\"Max:\\t\", np.round(np.nanmax(fwers, axis=1), 3))\n",
    "print(\"Mean:\\t\", np.round(np.nanmean(fwers, axis=1), 3))\n"
   ]
  },
  {
   "cell_type": "code",
   "execution_count": 110,
   "metadata": {},
   "outputs": [
    {
     "data": {
      "image/png": "[encoded data removed]",
      "text/plain": [
       "<Figure size 600x200 with 1 Axes>"
      ]
     },
     "metadata": {},
     "output_type": "display_data"
    }
   ],
   "source": [
    "import matplotlib.pyplot as plt\n",
    "plt.figure(figsize=(6,2))\n",
    "plt.title(\"Number of verified ranks, \" + method)\n",
    "plt.boxplot(N_verified_all.reshape(-1), vert=False)\n",
    "plt.show()"
   ]
  },
  {
   "cell_type": "code",
   "execution_count": null,
   "metadata": {},
   "outputs": [],
   "source": []
  },
  {
   "cell_type": "markdown",
   "metadata": {},
   "source": [
    "# Top-K:\n",
    "## RankSHAP (from rankshap_vs_ss.py)\n",
    "- alpha = 0.2: Always controls FWER for K=2 and K=5, didn't let finish, fairly conservative\n",
    "- alpha = 0.1: Generally good. Didn't let K=5 finish. 1x on each K, get  FWER > alpha, but by a margin that's not unlikely."
   ]
  },
  {
   "cell_type": "code",
   "execution_count": 41,
   "metadata": {},
   "outputs": [
    {
     "name": "stdout",
     "output_type": "stream",
     "text": [
      "22\n",
      "0.22977315819637745\n",
      "0.1221450836012784\n",
      "[0.0, 0.0, 0.0, 0.02, 0.08, 0.04, 0.02, 0.02, 0.14, 0.02, 0.0, 0.06, 0.1, 0.02, 0.02, 0.02, 0.08, 0.0, 0.04, 0.1, 0.0, 0.02]\n"
     ]
    }
   ],
   "source": [
    "alpha = 0.1\n",
    "top_k_path = join(results_path, \"Top_K\", \"rank\", \"alpha_\" + str(alpha))\n",
    "K = 5\n",
    "fname = \"rankshap_vs_ss_k\" + str(K)\n",
    "\n",
    "with open(join(top_k_path, fname), 'rb') as f:\n",
    "    results = pickle.load(f)\n",
    "top_K_rs = np.array(results['rankshap'])\n",
    "\n",
    "print(len(top_K_rs))\n",
    "print(1-binom.cdf(6, 50, .1))\n",
    "print(1-binom.cdf(7, 50, .1))\n",
    "print([helper.calc_fwer(top_K, digits=3).item() for top_K in top_K_rs])"
   ]
  },
  {
   "cell_type": "markdown",
   "metadata": {},
   "source": [
    "<!-- ### Weird. Sometimes the allocation blows up, usually no extra at all -->"
   ]
  },
  {
   "cell_type": "markdown",
   "metadata": {},
   "source": [
    "## RankSHAP, failure cases (skipping)"
   ]
  },
  {
   "cell_type": "code",
   "execution_count": null,
   "metadata": {},
   "outputs": [
    {
     "ename": "TypeError",
     "evalue": "iteration over a 0-d array",
     "output_type": "error",
     "traceback": [
      "\u001b[0;31m---------------------------------------------------------------------------\u001b[0m",
      "\u001b[0;31mTypeError\u001b[0m                                 Traceback (most recent call last)",
      "Cell \u001b[0;32mIn[125], line 12\u001b[0m\n\u001b[1;32m      9\u001b[0m fwers \u001b[38;5;241m=\u001b[39m results[\u001b[38;5;124m'\u001b[39m\u001b[38;5;124mfwers\u001b[39m\u001b[38;5;124m'\u001b[39m]\n\u001b[1;32m     10\u001b[0m \u001b[38;5;66;03m# array = np.array([value for value in fwers.values()])\u001b[39;00m\n\u001b[0;32m---> 12\u001b[0m \u001b[38;5;28;43mlist\u001b[39;49m\u001b[43m(\u001b[49m\u001b[43mfwers\u001b[49m\u001b[43m)\u001b[49m\n\u001b[1;32m     13\u001b[0m \u001b[38;5;66;03m# print(len(top_K_rs))\u001b[39;00m\n\u001b[1;32m     14\u001b[0m \u001b[38;5;66;03m# print(1-binom.cdf(6, 50, .1))\u001b[39;00m\n\u001b[1;32m     15\u001b[0m \u001b[38;5;66;03m# print(1-binom.cdf(7, 50, .1))\u001b[39;00m\n\u001b[1;32m     16\u001b[0m \u001b[38;5;66;03m# print([helper.calc_fwer(top_K, digits=3).item() for top_K in top_K_rs])\u001b[39;00m\n",
      "\u001b[0;31mTypeError\u001b[0m: iteration over a 0-d array"
     ]
    }
   ],
   "source": [
    "alpha = 0.1\n",
    "top_k_path = join(results_path, \"Top_K\", \"rank\", \"alpha_\" + str(alpha))\n",
    "K = 2\n",
    "fname = \"rankshap_census_K\" + str(K)\n",
    "\n",
    "with open(join(top_k_path, fname), 'rb') as f:\n",
    "    results = pickle.load(f)\n",
    "# top_K_rs = np.array(results['shap_vals'])\n",
    "fwers = results['fwers']\n",
    "# array = np.array([value for value in fwers.values()])\n",
    "\n",
    "\n",
    "# print(len(top_K_rs))\n",
    "# print(1-binom.cdf(6, 50, .1))\n",
    "# print(1-binom.cdf(7, 50, .1))\n",
    "# print([helper.calc_fwer(top_K, digits=3).item() for top_K in top_K_rs])"
   ]
  },
  {
   "cell_type": "code",
   "execution_count": null,
   "metadata": {},
   "outputs": [],
   "source": []
  }
 ],
 "metadata": {
  "kernelspec": {
   "display_name": "rankings",
   "language": "python",
   "name": "python3"
  },
  "language_info": {
   "codemirror_mode": {
    "name": "ipython",
    "version": 3
   },
   "file_extension": ".py",
   "mimetype": "text/x-python",
   "name": "python",
   "nbconvert_exporter": "python",
   "pygments_lexer": "ipython3",
   "version": "3.11.4"
  }
 },
 "nbformat": 4,
 "nbformat_minor": 2
}
