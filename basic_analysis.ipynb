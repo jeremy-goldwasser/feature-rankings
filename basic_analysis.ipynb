{
 "cells": [
  {
   "cell_type": "code",
   "execution_count": 1,
   "metadata": {},
   "outputs": [],
   "source": [
    "import numpy as np\n",
    "import sys\n",
    "import pathlib\n",
    "from os.path import join\n",
    "path_to_file = str(pathlib.Path().resolve())\n",
    "dir_path = join(path_to_file)\n",
    "\n",
    "sys.path.append(join(dir_path, \"HelperFiles\"))\n",
    "import helper\n",
    "import retrospective\n",
    "import top_k \n",
    "import train_models\n",
    "import load_data \n",
    "\n",
    "from os.path import join\n",
    "data_path = join(dir_path, \"Experiments\", \"Data\")\n",
    "\n",
    "import warnings\n",
    "warnings.filterwarnings('ignore')\n",
    "\n",
    "from scipy.stats import binom\n",
    "import importlib"
   ]
  },
  {
   "cell_type": "code",
   "execution_count": 5,
   "metadata": {},
   "outputs": [
    {
     "name": "stdout",
     "output_type": "stream",
     "text": [
      "Class imbalance: 75%\n",
      "NN 82% accuracy\n",
      "12\n"
     ]
    }
   ],
   "source": [
    "dataset = \"census\" #breast_cancer\n",
    "X_train, y_train, X_test, y_test, mapping_dict = load_data.load_data(data_path, dataset)\n",
    "model = train_models.train_model(X_train, y_train, \"nn\", lime=False)\n",
    "\n",
    "print(\"Class imbalance: {}%\".format(round(100*(max(np.mean(y_test), 1-np.mean(y_test))))))\n",
    "Y_preds = (model(X_test) > 0.5).astype(\"int\")\n",
    "print(\"NN {}% accuracy\".format(round(np.mean(Y_preds == y_test)*100)))\n",
    "d = len(mapping_dict) if mapping_dict is not None else X_train.shape[1]\n",
    "print(d)"
   ]
  },
  {
   "cell_type": "code",
   "execution_count": 19,
   "metadata": {},
   "outputs": [
    {
     "data": {
      "text/plain": [
       "[2, 3, 4]"
      ]
     },
     "execution_count": 19,
     "metadata": {},
     "output_type": "execute_result"
    }
   ],
   "source": [
    "np.random.seed(1)\n",
    "xloc = X_test[3]\n",
    "shap_vals, n_verified, kshap_covs = retrospective.kernelshap(model, X_train, xloc, n_perms=1000, \n",
    "                                                n_samples_per_perm=10, mapping_dict=mapping_dict,\n",
    "                                                alphas=[0.05, 0.1, 0.2], abs=True)\n",
    "n_verified"
   ]
  },
  {
   "cell_type": "code",
   "execution_count": null,
   "metadata": {},
   "outputs": [],
   "source": []
  },
  {
   "cell_type": "code",
   "execution_count": null,
   "metadata": {},
   "outputs": [],
   "source": []
  },
  {
   "cell_type": "markdown",
   "metadata": {},
   "source": [
    "# Ongoing runs\n",
    "## Retrospective rank verification\n",
    "### Shapley Sampling and KernelSHAP, various alphas. Both always control FWER!"
   ]
  },
  {
   "cell_type": "code",
   "execution_count": 2,
   "metadata": {},
   "outputs": [],
   "source": [
    "import pickle\n",
    "results_path = join(dir_path, \"Experiments\", \"Results\")\n",
    "retro_path = join(results_path, \"Retrospective\")\n",
    "method = \"kernelshap\"\n",
    "dataset = \"census\"\n",
    "with open(join(retro_path, method+\"_\"+dataset), 'rb') as f:\n",
    "    retro_results = pickle.load(f)\n",
    "shap_vals = retro_results[\"shap_vals\"]\n",
    "N_verified_all = retro_results[\"N_verified\"]\n",
    "shap_vars = retro_results[\"shap_vars\"]"
   ]
  },
  {
   "cell_type": "code",
   "execution_count": 5,
   "metadata": {},
   "outputs": [
    {
     "name": "stdout",
     "output_type": "stream",
     "text": [
      "Alphas:\t [0.05, 0.1, 0.2]\n",
      "(30, 50, 3)\n",
      "Max:\t [0.02 0.02 0.1 ]\n",
      "Mean:\t [0.004 0.008 0.021]\n"
     ]
    }
   ],
   "source": [
    "# Number of stable ranks from retrospective procedure. \n",
    "importlib.reload(helper)\n",
    "alphas = [0.05, 0.1, 0.2]\n",
    "print(\"Alphas:\\t\", alphas)\n",
    "all_ranks = helper.shap_vals_to_ranks(shap_vals, abs=True)\n",
    "\n",
    "N_pts, N_runs, N_alphas = N_verified_all.shape\n",
    "print(N_verified_all.shape)\n",
    "avg_shap = np.mean(shap_vals, axis=1)\n",
    "avg_ranks = np.array([helper.get_ranking(avg_shap[i], abs=True) for i in range(N_pts)])\n",
    "\n",
    "fwers = helper.calc_all_retro_fwers(N_verified_all, all_ranks, avg_ranks)\n",
    "print(\"Max:\\t\", np.round(np.nanmax(fwers, axis=1), 3))\n",
    "print(\"Mean:\\t\", np.round(np.nanmean(fwers, axis=1), 3))\n"
   ]
  },
  {
   "cell_type": "code",
   "execution_count": 6,
   "metadata": {},
   "outputs": [
    {
     "data": {
      "image/png": "[encoded data removed]",
      "text/plain": [
       "<Figure size 600x200 with 1 Axes>"
      ]
     },
     "metadata": {},
     "output_type": "display_data"
    }
   ],
   "source": [
    "import matplotlib.pyplot as plt\n",
    "plt.figure(figsize=(6,2))\n",
    "plt.title(\"Number of verified ranks, \" + method)\n",
    "plt.boxplot(N_verified_all.reshape(-1), vert=False)\n",
    "plt.show()"
   ]
  },
  {
   "cell_type": "markdown",
   "metadata": {},
   "source": [
    "## Retrospective rank verification for top K set\n",
    "### Looks fine!\n",
    "- Had to fix a bit, with wrong def of FWER. \n",
    "- One instance where max FWER is higher than alpha, but it's really not unreasonable to see at least this many errors in 50 samples\n",
    "<!-- - works across K, alpha\n",
    "- possible exception: K=5, alpha=0.2, get FWER of 57% when skip_thresh < 0.3. Hard at the boundary here; only rejects 14/50 times. Empirical FWER is very high, 0.38. So it may just be too variable to gauge.\n",
    "    - Kind of a bummer for analysis: \"Hey our method works unless it's a boundary case, in which case it should be taken with a grain of salt... but there's no way of knowing whether it's a boundary case without rerunning a bunch of times\" -->\n"
   ]
  },
  {
   "cell_type": "code",
   "execution_count": 6,
   "metadata": {},
   "outputs": [
    {
     "name": "stdout",
     "output_type": "stream",
     "text": [
      "Alpha: 0.05 \tAverage FWER (out of 30): 0.005 \tMax FWER: 0.080\n"
     ]
    }
   ],
   "source": [
    "importlib.reload(top_k)\n",
    "importlib.reload(helper)\n",
    "K = 5\n",
    "alphas = [0.05, 0.1, 0.2]\n",
    "# skip_thresh = 0.2\n",
    "for alpha in alphas:\n",
    "    fwers_all = []\n",
    "    for i in range(N_pts):\n",
    "        num_false_rejections = 0\n",
    "        true_top_K_set = np.sort(avg_ranks[i,:K])\n",
    "        for j in range(N_runs):\n",
    "            ss_vals, ss_vars = shap_vals[i,j,:], shap_vars[i,j,:]\n",
    "            result = helper.test_top_k_set(ss_vals, ss_vars, K=K, alpha=alpha, abs=True)\n",
    "            if result==\"reject\":\n",
    "                est_top_K_set = np.sort(all_ranks[i,j,:K])\n",
    "                if not np.array_equal(true_top_K_set, est_top_K_set):\n",
    "                    num_false_rejections += 1\n",
    "        fwer = num_false_rejections/N_runs\n",
    "        fwers_all.append(fwer)\n",
    "    print(f\"Alpha: {alpha} \\tAverage FWER (out of {len(fwers_all)}): {np.mean(fwers_all):.3f} \\tMax FWER: {np.max(fwers_all):.3f}\")\n",
    "    break"
   ]
  },
  {
   "cell_type": "code",
   "execution_count": 7,
   "metadata": {},
   "outputs": [
    {
     "name": "stdout",
     "output_type": "stream",
     "text": [
      "0.240\n"
     ]
    }
   ],
   "source": [
    "from scipy.stats import binom\n",
    "prob_get_that_max = 1-binom.cdf((50*0.08-1), 50, 0.05)\n",
    "print(f\"{prob_get_that_max:.3f}\")\n"
   ]
  },
  {
   "cell_type": "code",
   "execution_count": 8,
   "metadata": {},
   "outputs": [],
   "source": [
    "\n",
    "# helper.calc_fwer(np.sort(all_ranks[i,:,:K], axis=1))"
   ]
  },
  {
   "cell_type": "markdown",
   "metadata": {},
   "source": [
    "# Top-K\n",
    "## Rank stability\n",
    "### from rankshap_vs_ss.py\n",
    "<!-- - alpha = 0.2: Always controls FWER for K=2 and K=5, didn't let finish, fairly conservative\n",
    "- alpha = 0.1: Generally good. Didn't let K=5 finish. 1x on each K, get  FWER > alpha, but by a margin that's not unlikely.  -->\n",
    "\n",
    "- Just changed so it saves the iterations that fail to converge, and computes FWER based on both.\n",
    "- haven't run for alpha=0.2 or 0.1 w/ K=5."
   ]
  },
  {
   "cell_type": "code",
   "execution_count": 9,
   "metadata": {},
   "outputs": [
    {
     "name": "stdout",
     "output_type": "stream",
     "text": [
      "dict_keys(['rankshap', 'rankshap_rejection_idx', 'ss_adaptive', 'rankshap_n_samples', 'x_indices'])\n"
     ]
    }
   ],
   "source": [
    "alpha = 0.1\n",
    "top_k_path = join(results_path, \"Top_K\", \"rank\", \"alpha_\" + str(alpha))\n",
    "K = 2\n",
    "fname = \"rankshap_vs_ss_k\" + str(K)\n",
    "\n",
    "with open(join(top_k_path, fname), 'rb') as f:\n",
    "    results = pickle.load(f)\n",
    "print(results.keys())\n"
   ]
  },
  {
   "cell_type": "code",
   "execution_count": 13,
   "metadata": {},
   "outputs": [
    {
     "name": "stdout",
     "output_type": "stream",
     "text": [
      "6\n",
      "[0.0, 0.0, 0.0, 0.0, 0.04, 0.0]\n"
     ]
    }
   ],
   "source": [
    "top_K_rs = results['rankshap']\n",
    "rejection_idx = results['rankshap_rejection_idx'] # Doesn't exist yet\n",
    "\n",
    "print(len(top_K_rs))\n",
    "print([helper.calc_fwer(top_K, digits=3, rejection_idx=rejection_idx[i]).item() for i, top_K in enumerate(top_K_rs)])"
   ]
  },
  {
   "cell_type": "markdown",
   "metadata": {},
   "source": [
    "### top_k_experiment.py\n",
    "<!-- OUTDATED:\n",
    "- RankSHAP alpha=0.1: Always controls FWER, not too conservative, made it to 30, and fixed saving error with FWERs\n",
    "- RankSHAP alpha=0.2: Good but didn't make it to 30\n",
    "- SPRT-SHAP alpha=0.1: Good but didn't make it to 30; conservative -->"
   ]
  },
  {
   "cell_type": "code",
   "execution_count": 40,
   "metadata": {},
   "outputs": [
    {
     "data": {
      "text/plain": [
       "array([0.  , 0.  , 0.  , 0.  , 0.02, 0.  , 0.  , 0.  , 0.  , 0.  , 0.  ,\n",
       "       0.  ])"
      ]
     },
     "execution_count": 40,
     "metadata": {},
     "output_type": "execute_result"
    }
   ],
   "source": [
    "alpha = 0.1\n",
    "top_k_path = join(results_path, \"Top_K\", \"rank\", \"alpha_\" + str(alpha))\n",
    "K = 2\n",
    "# fname = \"rankshap_census_K\" + str(K)\n",
    "fname = \"sprtshap_census_K\" + str(K)\n",
    "\n",
    "with open(join(top_k_path, fname), 'rb') as f:\n",
    "    results = pickle.load(f)\n",
    "\n",
    "# top_K_all = results['ranks']\n",
    "# idx = results['rejection_idx'] #\n",
    "# fwers = np.array([helper.calc_fwer(top_K, digits=3, rejection_idx=idx[i]).item() for i, top_K in enumerate(top_K_all)])\n",
    "results['fwers']"
   ]
  },
  {
   "cell_type": "code",
   "execution_count": null,
   "metadata": {},
   "outputs": [],
   "source": [
    "print('hello')"
   ]
  },
  {
   "cell_type": "code",
   "execution_count": null,
   "metadata": {},
   "outputs": [],
   "source": [
    "# fwers = results['fwers']\n",
    "\n",
    "# fwers = results['fwers'].item()\n",
    "# fwers = np.array(list(fwers.values()))\n",
    "# results['fwers'] = fwers\n",
    "# with open(join(top_k_path, fname), 'wb') as f:\n",
    "#     pickle.dump(results, f)\n",
    "# fwers\n",
    "\n"
   ]
  },
  {
   "cell_type": "code",
   "execution_count": null,
   "metadata": {},
   "outputs": [],
   "source": []
  }
 ],
 "metadata": {
  "kernelspec": {
   "display_name": "rankings",
   "language": "python",
   "name": "python3"
  },
  "language_info": {
   "codemirror_mode": {
    "name": "ipython",
    "version": 3
   },
   "file_extension": ".py",
   "mimetype": "text/x-python",
   "name": "python",
   "nbconvert_exporter": "python",
   "pygments_lexer": "ipython3",
   "version": "3.11.4"
  }
 },
 "nbformat": 4,
 "nbformat_minor": 2
}
